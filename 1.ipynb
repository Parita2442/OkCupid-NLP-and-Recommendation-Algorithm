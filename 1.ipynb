{
  "nbformat": 4,
  "nbformat_minor": 0,
  "metadata": {
    "colab": {
      "provenance": [],
      "include_colab_link": true
    },
    "kernelspec": {
      "name": "python3",
      "display_name": "Python 3"
    },
    "language_info": {
      "name": "python"
    }
  },
  "cells": [
    {
      "cell_type": "markdown",
      "metadata": {
        "id": "view-in-github",
        "colab_type": "text"
      },
      "source": [
        "<a href=\"https://colab.research.google.com/github/S-Gunjan/BA820-A1-OkCupid/blob/main/1.ipynb\" target=\"_parent\"><img src=\"https://colab.research.google.com/assets/colab-badge.svg\" alt=\"Open In Colab\"/></a>"
      ]
    },
    {
      "cell_type": "markdown",
      "source": [
        "## BA820 Project: OkCupid Profiles"
      ],
      "metadata": {
        "id": "jhgyxUgQjGsF"
      }
    },
    {
      "cell_type": "code",
      "execution_count": 1,
      "metadata": {
        "colab": {
          "base_uri": "https://localhost:8080/"
        },
        "id": "x0NTSrmVi8_n",
        "outputId": "ead18a1e-6eb4-484f-c076-37d80a6c229e"
      },
      "outputs": [
        {
          "output_type": "stream",
          "name": "stdout",
          "text": [
            "Collecting googlemaps\n",
            "  Downloading googlemaps-4.10.0.tar.gz (33 kB)\n",
            "  Preparing metadata (setup.py) ... \u001b[?25l\u001b[?25hdone\n",
            "Requirement already satisfied: requests<3.0,>=2.20.0 in /usr/local/lib/python3.10/dist-packages (from googlemaps) (2.31.0)\n",
            "Requirement already satisfied: charset-normalizer<4,>=2 in /usr/local/lib/python3.10/dist-packages (from requests<3.0,>=2.20.0->googlemaps) (3.3.2)\n",
            "Requirement already satisfied: idna<4,>=2.5 in /usr/local/lib/python3.10/dist-packages (from requests<3.0,>=2.20.0->googlemaps) (3.6)\n",
            "Requirement already satisfied: urllib3<3,>=1.21.1 in /usr/local/lib/python3.10/dist-packages (from requests<3.0,>=2.20.0->googlemaps) (2.0.7)\n",
            "Requirement already satisfied: certifi>=2017.4.17 in /usr/local/lib/python3.10/dist-packages (from requests<3.0,>=2.20.0->googlemaps) (2024.2.2)\n",
            "Building wheels for collected packages: googlemaps\n",
            "  Building wheel for googlemaps (setup.py) ... \u001b[?25l\u001b[?25hdone\n",
            "  Created wheel for googlemaps: filename=googlemaps-4.10.0-py3-none-any.whl size=40711 sha256=bf899384ec9cdaad679ccc2488fc2f367dc02712e3da9009f928baa35194f0c4\n",
            "  Stored in directory: /root/.cache/pip/wheels/17/f8/79/999d5d37118fd35d7219ef57933eb9d09886c4c4503a800f84\n",
            "Successfully built googlemaps\n",
            "Installing collected packages: googlemaps\n",
            "Successfully installed googlemaps-4.10.0\n",
            "Mounted at /content/drive\n"
          ]
        }
      ],
      "source": [
        "# Importing libraries and mounting the drive\n",
        "\n",
        "import pandas as pd\n",
        "import numpy as np\n",
        "import matplotlib.pyplot as plt\n",
        "from google.colab import drive\n",
        "import seaborn as sns\n",
        "import statsmodels.formula.api as smf\n",
        "from sklearn.cluster import KMeans\n",
        "from sklearn.preprocessing import StandardScaler\n",
        "!pip install -U googlemaps\n",
        "drive.mount('/content/drive')\n",
        "data_folder = '/content/drive/MyDrive/Colab Notebooks/BA820/Data/'"
      ]
    },
    {
      "cell_type": "code",
      "source": [
        "data = pd.read_csv(data_folder+'okcupid_profiles.csv')"
      ],
      "metadata": {
        "id": "uuxx9vanjZ-t"
      },
      "execution_count": 2,
      "outputs": []
    },
    {
      "cell_type": "code",
      "source": [
        "data.info()"
      ],
      "metadata": {
        "colab": {
          "base_uri": "https://localhost:8080/"
        },
        "id": "-3ngjERIjajN",
        "outputId": "e783ec0c-69c9-4ae5-cf1f-8e97686f8825"
      },
      "execution_count": 3,
      "outputs": [
        {
          "output_type": "stream",
          "name": "stdout",
          "text": [
            "<class 'pandas.core.frame.DataFrame'>\n",
            "RangeIndex: 59946 entries, 0 to 59945\n",
            "Data columns (total 31 columns):\n",
            " #   Column       Non-Null Count  Dtype  \n",
            "---  ------       --------------  -----  \n",
            " 0   age          59946 non-null  int64  \n",
            " 1   status       59946 non-null  object \n",
            " 2   sex          59946 non-null  object \n",
            " 3   orientation  59946 non-null  object \n",
            " 4   body_type    54650 non-null  object \n",
            " 5   diet         35551 non-null  object \n",
            " 6   drinks       56961 non-null  object \n",
            " 7   drugs        45866 non-null  object \n",
            " 8   education    53318 non-null  object \n",
            " 9   ethnicity    54266 non-null  object \n",
            " 10  height       59943 non-null  float64\n",
            " 11  income       59946 non-null  int64  \n",
            " 12  job          51748 non-null  object \n",
            " 13  last_online  59946 non-null  object \n",
            " 14  location     59946 non-null  object \n",
            " 15  offspring    24385 non-null  object \n",
            " 16  pets         40025 non-null  object \n",
            " 17  religion     39720 non-null  object \n",
            " 18  sign         48890 non-null  object \n",
            " 19  smokes       54434 non-null  object \n",
            " 20  speaks       59896 non-null  object \n",
            " 21  essay0       54458 non-null  object \n",
            " 22  essay1       52374 non-null  object \n",
            " 23  essay2       50308 non-null  object \n",
            " 24  essay3       48470 non-null  object \n",
            " 25  essay4       49409 non-null  object \n",
            " 26  essay5       49096 non-null  object \n",
            " 27  essay6       46175 non-null  object \n",
            " 28  essay7       47495 non-null  object \n",
            " 29  essay8       40721 non-null  object \n",
            " 30  essay9       47343 non-null  object \n",
            "dtypes: float64(1), int64(2), object(28)\n",
            "memory usage: 14.2+ MB\n"
          ]
        }
      ]
    },
    {
      "cell_type": "code",
      "source": [
        "data.describe()"
      ],
      "metadata": {
        "colab": {
          "base_uri": "https://localhost:8080/",
          "height": 300
        },
        "id": "UXwSqeTxjlAa",
        "outputId": "92ac8125-4102-4b2f-f885-a661df5b3b3a"
      },
      "execution_count": 4,
      "outputs": [
        {
          "output_type": "execute_result",
          "data": {
            "text/plain": [
              "                age        height          income\n",
              "count  59946.000000  59943.000000    59946.000000\n",
              "mean      32.340290     68.295281    20033.222534\n",
              "std        9.452779      3.994803    97346.192104\n",
              "min       18.000000      1.000000       -1.000000\n",
              "25%       26.000000     66.000000       -1.000000\n",
              "50%       30.000000     68.000000       -1.000000\n",
              "75%       37.000000     71.000000       -1.000000\n",
              "max      110.000000     95.000000  1000000.000000"
            ],
            "text/html": [
              "\n",
              "  <div id=\"df-ce87426f-679f-41af-8f10-67c1da9e6c79\" class=\"colab-df-container\">\n",
              "    <div>\n",
              "<style scoped>\n",
              "    .dataframe tbody tr th:only-of-type {\n",
              "        vertical-align: middle;\n",
              "    }\n",
              "\n",
              "    .dataframe tbody tr th {\n",
              "        vertical-align: top;\n",
              "    }\n",
              "\n",
              "    .dataframe thead th {\n",
              "        text-align: right;\n",
              "    }\n",
              "</style>\n",
              "<table border=\"1\" class=\"dataframe\">\n",
              "  <thead>\n",
              "    <tr style=\"text-align: right;\">\n",
              "      <th></th>\n",
              "      <th>age</th>\n",
              "      <th>height</th>\n",
              "      <th>income</th>\n",
              "    </tr>\n",
              "  </thead>\n",
              "  <tbody>\n",
              "    <tr>\n",
              "      <th>count</th>\n",
              "      <td>59946.000000</td>\n",
              "      <td>59943.000000</td>\n",
              "      <td>59946.000000</td>\n",
              "    </tr>\n",
              "    <tr>\n",
              "      <th>mean</th>\n",
              "      <td>32.340290</td>\n",
              "      <td>68.295281</td>\n",
              "      <td>20033.222534</td>\n",
              "    </tr>\n",
              "    <tr>\n",
              "      <th>std</th>\n",
              "      <td>9.452779</td>\n",
              "      <td>3.994803</td>\n",
              "      <td>97346.192104</td>\n",
              "    </tr>\n",
              "    <tr>\n",
              "      <th>min</th>\n",
              "      <td>18.000000</td>\n",
              "      <td>1.000000</td>\n",
              "      <td>-1.000000</td>\n",
              "    </tr>\n",
              "    <tr>\n",
              "      <th>25%</th>\n",
              "      <td>26.000000</td>\n",
              "      <td>66.000000</td>\n",
              "      <td>-1.000000</td>\n",
              "    </tr>\n",
              "    <tr>\n",
              "      <th>50%</th>\n",
              "      <td>30.000000</td>\n",
              "      <td>68.000000</td>\n",
              "      <td>-1.000000</td>\n",
              "    </tr>\n",
              "    <tr>\n",
              "      <th>75%</th>\n",
              "      <td>37.000000</td>\n",
              "      <td>71.000000</td>\n",
              "      <td>-1.000000</td>\n",
              "    </tr>\n",
              "    <tr>\n",
              "      <th>max</th>\n",
              "      <td>110.000000</td>\n",
              "      <td>95.000000</td>\n",
              "      <td>1000000.000000</td>\n",
              "    </tr>\n",
              "  </tbody>\n",
              "</table>\n",
              "</div>\n",
              "    <div class=\"colab-df-buttons\">\n",
              "\n",
              "  <div class=\"colab-df-container\">\n",
              "    <button class=\"colab-df-convert\" onclick=\"convertToInteractive('df-ce87426f-679f-41af-8f10-67c1da9e6c79')\"\n",
              "            title=\"Convert this dataframe to an interactive table.\"\n",
              "            style=\"display:none;\">\n",
              "\n",
              "  <svg xmlns=\"http://www.w3.org/2000/svg\" height=\"24px\" viewBox=\"0 -960 960 960\">\n",
              "    <path d=\"M120-120v-720h720v720H120Zm60-500h600v-160H180v160Zm220 220h160v-160H400v160Zm0 220h160v-160H400v160ZM180-400h160v-160H180v160Zm440 0h160v-160H620v160ZM180-180h160v-160H180v160Zm440 0h160v-160H620v160Z\"/>\n",
              "  </svg>\n",
              "    </button>\n",
              "\n",
              "  <style>\n",
              "    .colab-df-container {\n",
              "      display:flex;\n",
              "      gap: 12px;\n",
              "    }\n",
              "\n",
              "    .colab-df-convert {\n",
              "      background-color: #E8F0FE;\n",
              "      border: none;\n",
              "      border-radius: 50%;\n",
              "      cursor: pointer;\n",
              "      display: none;\n",
              "      fill: #1967D2;\n",
              "      height: 32px;\n",
              "      padding: 0 0 0 0;\n",
              "      width: 32px;\n",
              "    }\n",
              "\n",
              "    .colab-df-convert:hover {\n",
              "      background-color: #E2EBFA;\n",
              "      box-shadow: 0px 1px 2px rgba(60, 64, 67, 0.3), 0px 1px 3px 1px rgba(60, 64, 67, 0.15);\n",
              "      fill: #174EA6;\n",
              "    }\n",
              "\n",
              "    .colab-df-buttons div {\n",
              "      margin-bottom: 4px;\n",
              "    }\n",
              "\n",
              "    [theme=dark] .colab-df-convert {\n",
              "      background-color: #3B4455;\n",
              "      fill: #D2E3FC;\n",
              "    }\n",
              "\n",
              "    [theme=dark] .colab-df-convert:hover {\n",
              "      background-color: #434B5C;\n",
              "      box-shadow: 0px 1px 3px 1px rgba(0, 0, 0, 0.15);\n",
              "      filter: drop-shadow(0px 1px 2px rgba(0, 0, 0, 0.3));\n",
              "      fill: #FFFFFF;\n",
              "    }\n",
              "  </style>\n",
              "\n",
              "    <script>\n",
              "      const buttonEl =\n",
              "        document.querySelector('#df-ce87426f-679f-41af-8f10-67c1da9e6c79 button.colab-df-convert');\n",
              "      buttonEl.style.display =\n",
              "        google.colab.kernel.accessAllowed ? 'block' : 'none';\n",
              "\n",
              "      async function convertToInteractive(key) {\n",
              "        const element = document.querySelector('#df-ce87426f-679f-41af-8f10-67c1da9e6c79');\n",
              "        const dataTable =\n",
              "          await google.colab.kernel.invokeFunction('convertToInteractive',\n",
              "                                                    [key], {});\n",
              "        if (!dataTable) return;\n",
              "\n",
              "        const docLinkHtml = 'Like what you see? Visit the ' +\n",
              "          '<a target=\"_blank\" href=https://colab.research.google.com/notebooks/data_table.ipynb>data table notebook</a>'\n",
              "          + ' to learn more about interactive tables.';\n",
              "        element.innerHTML = '';\n",
              "        dataTable['output_type'] = 'display_data';\n",
              "        await google.colab.output.renderOutput(dataTable, element);\n",
              "        const docLink = document.createElement('div');\n",
              "        docLink.innerHTML = docLinkHtml;\n",
              "        element.appendChild(docLink);\n",
              "      }\n",
              "    </script>\n",
              "  </div>\n",
              "\n",
              "\n",
              "<div id=\"df-ffb22b44-17ab-4eae-9669-845b01e376b2\">\n",
              "  <button class=\"colab-df-quickchart\" onclick=\"quickchart('df-ffb22b44-17ab-4eae-9669-845b01e376b2')\"\n",
              "            title=\"Suggest charts\"\n",
              "            style=\"display:none;\">\n",
              "\n",
              "<svg xmlns=\"http://www.w3.org/2000/svg\" height=\"24px\"viewBox=\"0 0 24 24\"\n",
              "     width=\"24px\">\n",
              "    <g>\n",
              "        <path d=\"M19 3H5c-1.1 0-2 .9-2 2v14c0 1.1.9 2 2 2h14c1.1 0 2-.9 2-2V5c0-1.1-.9-2-2-2zM9 17H7v-7h2v7zm4 0h-2V7h2v10zm4 0h-2v-4h2v4z\"/>\n",
              "    </g>\n",
              "</svg>\n",
              "  </button>\n",
              "\n",
              "<style>\n",
              "  .colab-df-quickchart {\n",
              "      --bg-color: #E8F0FE;\n",
              "      --fill-color: #1967D2;\n",
              "      --hover-bg-color: #E2EBFA;\n",
              "      --hover-fill-color: #174EA6;\n",
              "      --disabled-fill-color: #AAA;\n",
              "      --disabled-bg-color: #DDD;\n",
              "  }\n",
              "\n",
              "  [theme=dark] .colab-df-quickchart {\n",
              "      --bg-color: #3B4455;\n",
              "      --fill-color: #D2E3FC;\n",
              "      --hover-bg-color: #434B5C;\n",
              "      --hover-fill-color: #FFFFFF;\n",
              "      --disabled-bg-color: #3B4455;\n",
              "      --disabled-fill-color: #666;\n",
              "  }\n",
              "\n",
              "  .colab-df-quickchart {\n",
              "    background-color: var(--bg-color);\n",
              "    border: none;\n",
              "    border-radius: 50%;\n",
              "    cursor: pointer;\n",
              "    display: none;\n",
              "    fill: var(--fill-color);\n",
              "    height: 32px;\n",
              "    padding: 0;\n",
              "    width: 32px;\n",
              "  }\n",
              "\n",
              "  .colab-df-quickchart:hover {\n",
              "    background-color: var(--hover-bg-color);\n",
              "    box-shadow: 0 1px 2px rgba(60, 64, 67, 0.3), 0 1px 3px 1px rgba(60, 64, 67, 0.15);\n",
              "    fill: var(--button-hover-fill-color);\n",
              "  }\n",
              "\n",
              "  .colab-df-quickchart-complete:disabled,\n",
              "  .colab-df-quickchart-complete:disabled:hover {\n",
              "    background-color: var(--disabled-bg-color);\n",
              "    fill: var(--disabled-fill-color);\n",
              "    box-shadow: none;\n",
              "  }\n",
              "\n",
              "  .colab-df-spinner {\n",
              "    border: 2px solid var(--fill-color);\n",
              "    border-color: transparent;\n",
              "    border-bottom-color: var(--fill-color);\n",
              "    animation:\n",
              "      spin 1s steps(1) infinite;\n",
              "  }\n",
              "\n",
              "  @keyframes spin {\n",
              "    0% {\n",
              "      border-color: transparent;\n",
              "      border-bottom-color: var(--fill-color);\n",
              "      border-left-color: var(--fill-color);\n",
              "    }\n",
              "    20% {\n",
              "      border-color: transparent;\n",
              "      border-left-color: var(--fill-color);\n",
              "      border-top-color: var(--fill-color);\n",
              "    }\n",
              "    30% {\n",
              "      border-color: transparent;\n",
              "      border-left-color: var(--fill-color);\n",
              "      border-top-color: var(--fill-color);\n",
              "      border-right-color: var(--fill-color);\n",
              "    }\n",
              "    40% {\n",
              "      border-color: transparent;\n",
              "      border-right-color: var(--fill-color);\n",
              "      border-top-color: var(--fill-color);\n",
              "    }\n",
              "    60% {\n",
              "      border-color: transparent;\n",
              "      border-right-color: var(--fill-color);\n",
              "    }\n",
              "    80% {\n",
              "      border-color: transparent;\n",
              "      border-right-color: var(--fill-color);\n",
              "      border-bottom-color: var(--fill-color);\n",
              "    }\n",
              "    90% {\n",
              "      border-color: transparent;\n",
              "      border-bottom-color: var(--fill-color);\n",
              "    }\n",
              "  }\n",
              "</style>\n",
              "\n",
              "  <script>\n",
              "    async function quickchart(key) {\n",
              "      const quickchartButtonEl =\n",
              "        document.querySelector('#' + key + ' button');\n",
              "      quickchartButtonEl.disabled = true;  // To prevent multiple clicks.\n",
              "      quickchartButtonEl.classList.add('colab-df-spinner');\n",
              "      try {\n",
              "        const charts = await google.colab.kernel.invokeFunction(\n",
              "            'suggestCharts', [key], {});\n",
              "      } catch (error) {\n",
              "        console.error('Error during call to suggestCharts:', error);\n",
              "      }\n",
              "      quickchartButtonEl.classList.remove('colab-df-spinner');\n",
              "      quickchartButtonEl.classList.add('colab-df-quickchart-complete');\n",
              "    }\n",
              "    (() => {\n",
              "      let quickchartButtonEl =\n",
              "        document.querySelector('#df-ffb22b44-17ab-4eae-9669-845b01e376b2 button');\n",
              "      quickchartButtonEl.style.display =\n",
              "        google.colab.kernel.accessAllowed ? 'block' : 'none';\n",
              "    })();\n",
              "  </script>\n",
              "</div>\n",
              "    </div>\n",
              "  </div>\n"
            ],
            "application/vnd.google.colaboratory.intrinsic+json": {
              "type": "dataframe",
              "summary": "{\n  \"name\": \"data\",\n  \"rows\": 8,\n  \"fields\": [\n    {\n      \"column\": \"age\",\n      \"properties\": {\n        \"dtype\": \"number\",\n        \"std\": 21180.860885312773,\n        \"min\": 9.452779096971726,\n        \"max\": 59946.0,\n        \"num_unique_values\": 8,\n        \"samples\": [\n          32.3402895939679,\n          30.0,\n          59946.0\n        ],\n        \"semantic_type\": \"\",\n        \"description\": \"\"\n      }\n    },\n    {\n      \"column\": \"height\",\n      \"properties\": {\n        \"dtype\": \"number\",\n        \"std\": 21174.223278120495,\n        \"min\": 1.0,\n        \"max\": 59943.0,\n        \"num_unique_values\": 8,\n        \"samples\": [\n          68.29528051649066,\n          68.0,\n          59943.0\n        ],\n        \"semantic_type\": \"\",\n        \"description\": \"\"\n      }\n    },\n    {\n      \"column\": \"income\",\n      \"properties\": {\n        \"dtype\": \"number\",\n        \"std\": 346453.54664323275,\n        \"min\": -1.0,\n        \"max\": 1000000.0,\n        \"num_unique_values\": 5,\n        \"samples\": [\n          20033.222533613585,\n          1000000.0,\n          97346.1921036873\n        ],\n        \"semantic_type\": \"\",\n        \"description\": \"\"\n      }\n    }\n  ]\n}"
            }
          },
          "metadata": {},
          "execution_count": 4
        }
      ]
    },
    {
      "cell_type": "code",
      "source": [
        "num_rows, num_columns = data.shape\n",
        "print(f\"Number of rows: {num_rows}\")\n",
        "print(f\"Number of columns: {num_columns}\")"
      ],
      "metadata": {
        "colab": {
          "base_uri": "https://localhost:8080/"
        },
        "id": "oK82EPC1jpQh",
        "outputId": "3d38e5ae-362f-4f88-ae05-3e2a845816d4"
      },
      "execution_count": 5,
      "outputs": [
        {
          "output_type": "stream",
          "name": "stdout",
          "text": [
            "Number of rows: 59946\n",
            "Number of columns: 31\n"
          ]
        }
      ]
    },
    {
      "cell_type": "code",
      "source": [
        "data.corr()"
      ],
      "metadata": {
        "colab": {
          "base_uri": "https://localhost:8080/",
          "height": 198
        },
        "id": "BFtFKX8njtlC",
        "outputId": "31b91a01-a16a-4b93-8b9e-8b3b28b52b49"
      },
      "execution_count": 6,
      "outputs": [
        {
          "output_type": "stream",
          "name": "stderr",
          "text": [
            "<ipython-input-6-c44ded798807>:1: FutureWarning: The default value of numeric_only in DataFrame.corr is deprecated. In a future version, it will default to False. Select only valid columns or specify the value of numeric_only to silence this warning.\n",
            "  data.corr()\n"
          ]
        },
        {
          "output_type": "execute_result",
          "data": {
            "text/plain": [
              "             age    height    income\n",
              "age     1.000000 -0.022262 -0.001004\n",
              "height -0.022262  1.000000  0.065049\n",
              "income -0.001004  0.065049  1.000000"
            ],
            "text/html": [
              "\n",
              "  <div id=\"df-65b45132-6539-448b-aaca-e9d3777f5c72\" class=\"colab-df-container\">\n",
              "    <div>\n",
              "<style scoped>\n",
              "    .dataframe tbody tr th:only-of-type {\n",
              "        vertical-align: middle;\n",
              "    }\n",
              "\n",
              "    .dataframe tbody tr th {\n",
              "        vertical-align: top;\n",
              "    }\n",
              "\n",
              "    .dataframe thead th {\n",
              "        text-align: right;\n",
              "    }\n",
              "</style>\n",
              "<table border=\"1\" class=\"dataframe\">\n",
              "  <thead>\n",
              "    <tr style=\"text-align: right;\">\n",
              "      <th></th>\n",
              "      <th>age</th>\n",
              "      <th>height</th>\n",
              "      <th>income</th>\n",
              "    </tr>\n",
              "  </thead>\n",
              "  <tbody>\n",
              "    <tr>\n",
              "      <th>age</th>\n",
              "      <td>1.000000</td>\n",
              "      <td>-0.022262</td>\n",
              "      <td>-0.001004</td>\n",
              "    </tr>\n",
              "    <tr>\n",
              "      <th>height</th>\n",
              "      <td>-0.022262</td>\n",
              "      <td>1.000000</td>\n",
              "      <td>0.065049</td>\n",
              "    </tr>\n",
              "    <tr>\n",
              "      <th>income</th>\n",
              "      <td>-0.001004</td>\n",
              "      <td>0.065049</td>\n",
              "      <td>1.000000</td>\n",
              "    </tr>\n",
              "  </tbody>\n",
              "</table>\n",
              "</div>\n",
              "    <div class=\"colab-df-buttons\">\n",
              "\n",
              "  <div class=\"colab-df-container\">\n",
              "    <button class=\"colab-df-convert\" onclick=\"convertToInteractive('df-65b45132-6539-448b-aaca-e9d3777f5c72')\"\n",
              "            title=\"Convert this dataframe to an interactive table.\"\n",
              "            style=\"display:none;\">\n",
              "\n",
              "  <svg xmlns=\"http://www.w3.org/2000/svg\" height=\"24px\" viewBox=\"0 -960 960 960\">\n",
              "    <path d=\"M120-120v-720h720v720H120Zm60-500h600v-160H180v160Zm220 220h160v-160H400v160Zm0 220h160v-160H400v160ZM180-400h160v-160H180v160Zm440 0h160v-160H620v160ZM180-180h160v-160H180v160Zm440 0h160v-160H620v160Z\"/>\n",
              "  </svg>\n",
              "    </button>\n",
              "\n",
              "  <style>\n",
              "    .colab-df-container {\n",
              "      display:flex;\n",
              "      gap: 12px;\n",
              "    }\n",
              "\n",
              "    .colab-df-convert {\n",
              "      background-color: #E8F0FE;\n",
              "      border: none;\n",
              "      border-radius: 50%;\n",
              "      cursor: pointer;\n",
              "      display: none;\n",
              "      fill: #1967D2;\n",
              "      height: 32px;\n",
              "      padding: 0 0 0 0;\n",
              "      width: 32px;\n",
              "    }\n",
              "\n",
              "    .colab-df-convert:hover {\n",
              "      background-color: #E2EBFA;\n",
              "      box-shadow: 0px 1px 2px rgba(60, 64, 67, 0.3), 0px 1px 3px 1px rgba(60, 64, 67, 0.15);\n",
              "      fill: #174EA6;\n",
              "    }\n",
              "\n",
              "    .colab-df-buttons div {\n",
              "      margin-bottom: 4px;\n",
              "    }\n",
              "\n",
              "    [theme=dark] .colab-df-convert {\n",
              "      background-color: #3B4455;\n",
              "      fill: #D2E3FC;\n",
              "    }\n",
              "\n",
              "    [theme=dark] .colab-df-convert:hover {\n",
              "      background-color: #434B5C;\n",
              "      box-shadow: 0px 1px 3px 1px rgba(0, 0, 0, 0.15);\n",
              "      filter: drop-shadow(0px 1px 2px rgba(0, 0, 0, 0.3));\n",
              "      fill: #FFFFFF;\n",
              "    }\n",
              "  </style>\n",
              "\n",
              "    <script>\n",
              "      const buttonEl =\n",
              "        document.querySelector('#df-65b45132-6539-448b-aaca-e9d3777f5c72 button.colab-df-convert');\n",
              "      buttonEl.style.display =\n",
              "        google.colab.kernel.accessAllowed ? 'block' : 'none';\n",
              "\n",
              "      async function convertToInteractive(key) {\n",
              "        const element = document.querySelector('#df-65b45132-6539-448b-aaca-e9d3777f5c72');\n",
              "        const dataTable =\n",
              "          await google.colab.kernel.invokeFunction('convertToInteractive',\n",
              "                                                    [key], {});\n",
              "        if (!dataTable) return;\n",
              "\n",
              "        const docLinkHtml = 'Like what you see? Visit the ' +\n",
              "          '<a target=\"_blank\" href=https://colab.research.google.com/notebooks/data_table.ipynb>data table notebook</a>'\n",
              "          + ' to learn more about interactive tables.';\n",
              "        element.innerHTML = '';\n",
              "        dataTable['output_type'] = 'display_data';\n",
              "        await google.colab.output.renderOutput(dataTable, element);\n",
              "        const docLink = document.createElement('div');\n",
              "        docLink.innerHTML = docLinkHtml;\n",
              "        element.appendChild(docLink);\n",
              "      }\n",
              "    </script>\n",
              "  </div>\n",
              "\n",
              "\n",
              "<div id=\"df-f5054ef9-02ec-472c-aee7-f40ecacf6b9f\">\n",
              "  <button class=\"colab-df-quickchart\" onclick=\"quickchart('df-f5054ef9-02ec-472c-aee7-f40ecacf6b9f')\"\n",
              "            title=\"Suggest charts\"\n",
              "            style=\"display:none;\">\n",
              "\n",
              "<svg xmlns=\"http://www.w3.org/2000/svg\" height=\"24px\"viewBox=\"0 0 24 24\"\n",
              "     width=\"24px\">\n",
              "    <g>\n",
              "        <path d=\"M19 3H5c-1.1 0-2 .9-2 2v14c0 1.1.9 2 2 2h14c1.1 0 2-.9 2-2V5c0-1.1-.9-2-2-2zM9 17H7v-7h2v7zm4 0h-2V7h2v10zm4 0h-2v-4h2v4z\"/>\n",
              "    </g>\n",
              "</svg>\n",
              "  </button>\n",
              "\n",
              "<style>\n",
              "  .colab-df-quickchart {\n",
              "      --bg-color: #E8F0FE;\n",
              "      --fill-color: #1967D2;\n",
              "      --hover-bg-color: #E2EBFA;\n",
              "      --hover-fill-color: #174EA6;\n",
              "      --disabled-fill-color: #AAA;\n",
              "      --disabled-bg-color: #DDD;\n",
              "  }\n",
              "\n",
              "  [theme=dark] .colab-df-quickchart {\n",
              "      --bg-color: #3B4455;\n",
              "      --fill-color: #D2E3FC;\n",
              "      --hover-bg-color: #434B5C;\n",
              "      --hover-fill-color: #FFFFFF;\n",
              "      --disabled-bg-color: #3B4455;\n",
              "      --disabled-fill-color: #666;\n",
              "  }\n",
              "\n",
              "  .colab-df-quickchart {\n",
              "    background-color: var(--bg-color);\n",
              "    border: none;\n",
              "    border-radius: 50%;\n",
              "    cursor: pointer;\n",
              "    display: none;\n",
              "    fill: var(--fill-color);\n",
              "    height: 32px;\n",
              "    padding: 0;\n",
              "    width: 32px;\n",
              "  }\n",
              "\n",
              "  .colab-df-quickchart:hover {\n",
              "    background-color: var(--hover-bg-color);\n",
              "    box-shadow: 0 1px 2px rgba(60, 64, 67, 0.3), 0 1px 3px 1px rgba(60, 64, 67, 0.15);\n",
              "    fill: var(--button-hover-fill-color);\n",
              "  }\n",
              "\n",
              "  .colab-df-quickchart-complete:disabled,\n",
              "  .colab-df-quickchart-complete:disabled:hover {\n",
              "    background-color: var(--disabled-bg-color);\n",
              "    fill: var(--disabled-fill-color);\n",
              "    box-shadow: none;\n",
              "  }\n",
              "\n",
              "  .colab-df-spinner {\n",
              "    border: 2px solid var(--fill-color);\n",
              "    border-color: transparent;\n",
              "    border-bottom-color: var(--fill-color);\n",
              "    animation:\n",
              "      spin 1s steps(1) infinite;\n",
              "  }\n",
              "\n",
              "  @keyframes spin {\n",
              "    0% {\n",
              "      border-color: transparent;\n",
              "      border-bottom-color: var(--fill-color);\n",
              "      border-left-color: var(--fill-color);\n",
              "    }\n",
              "    20% {\n",
              "      border-color: transparent;\n",
              "      border-left-color: var(--fill-color);\n",
              "      border-top-color: var(--fill-color);\n",
              "    }\n",
              "    30% {\n",
              "      border-color: transparent;\n",
              "      border-left-color: var(--fill-color);\n",
              "      border-top-color: var(--fill-color);\n",
              "      border-right-color: var(--fill-color);\n",
              "    }\n",
              "    40% {\n",
              "      border-color: transparent;\n",
              "      border-right-color: var(--fill-color);\n",
              "      border-top-color: var(--fill-color);\n",
              "    }\n",
              "    60% {\n",
              "      border-color: transparent;\n",
              "      border-right-color: var(--fill-color);\n",
              "    }\n",
              "    80% {\n",
              "      border-color: transparent;\n",
              "      border-right-color: var(--fill-color);\n",
              "      border-bottom-color: var(--fill-color);\n",
              "    }\n",
              "    90% {\n",
              "      border-color: transparent;\n",
              "      border-bottom-color: var(--fill-color);\n",
              "    }\n",
              "  }\n",
              "</style>\n",
              "\n",
              "  <script>\n",
              "    async function quickchart(key) {\n",
              "      const quickchartButtonEl =\n",
              "        document.querySelector('#' + key + ' button');\n",
              "      quickchartButtonEl.disabled = true;  // To prevent multiple clicks.\n",
              "      quickchartButtonEl.classList.add('colab-df-spinner');\n",
              "      try {\n",
              "        const charts = await google.colab.kernel.invokeFunction(\n",
              "            'suggestCharts', [key], {});\n",
              "      } catch (error) {\n",
              "        console.error('Error during call to suggestCharts:', error);\n",
              "      }\n",
              "      quickchartButtonEl.classList.remove('colab-df-spinner');\n",
              "      quickchartButtonEl.classList.add('colab-df-quickchart-complete');\n",
              "    }\n",
              "    (() => {\n",
              "      let quickchartButtonEl =\n",
              "        document.querySelector('#df-f5054ef9-02ec-472c-aee7-f40ecacf6b9f button');\n",
              "      quickchartButtonEl.style.display =\n",
              "        google.colab.kernel.accessAllowed ? 'block' : 'none';\n",
              "    })();\n",
              "  </script>\n",
              "</div>\n",
              "    </div>\n",
              "  </div>\n"
            ],
            "application/vnd.google.colaboratory.intrinsic+json": {
              "type": "dataframe",
              "summary": "{\n  \"name\": \"data\",\n  \"rows\": 3,\n  \"fields\": [\n    {\n      \"column\": \"age\",\n      \"properties\": {\n        \"dtype\": \"number\",\n        \"std\": 0.584163126290005,\n        \"min\": -0.022261595235370097,\n        \"max\": 1.0,\n        \"num_unique_values\": 3,\n        \"samples\": [\n          1.0,\n          -0.022261595235370097,\n          -0.0010038398754361189\n        ],\n        \"semantic_type\": \"\",\n        \"description\": \"\"\n      }\n    },\n    {\n      \"column\": \"height\",\n      \"properties\": {\n        \"dtype\": \"number\",\n        \"std\": 0.5666826484142989,\n        \"min\": -0.022261595235370097,\n        \"max\": 1.0,\n        \"num_unique_values\": 3,\n        \"samples\": [\n          -0.022261595235370097,\n          1.0,\n          0.0650489631043172\n        ],\n        \"semantic_type\": \"\",\n        \"description\": \"\"\n      }\n    },\n    {\n      \"column\": \"income\",\n      \"properties\": {\n        \"dtype\": \"number\",\n        \"std\": 0.5598370449840981,\n        \"min\": -0.0010038398754361189,\n        \"max\": 1.0,\n        \"num_unique_values\": 3,\n        \"samples\": [\n          -0.0010038398754361189,\n          0.0650489631043172,\n          1.0\n        ],\n        \"semantic_type\": \"\",\n        \"description\": \"\"\n      }\n    }\n  ]\n}"
            }
          },
          "metadata": {},
          "execution_count": 6
        }
      ]
    },
    {
      "cell_type": "code",
      "source": [
        "data.isna().sum()"
      ],
      "metadata": {
        "colab": {
          "base_uri": "https://localhost:8080/"
        },
        "id": "m0GNNVeIjxfp",
        "outputId": "99797b2f-abc3-40db-ed5d-0b140215d62e"
      },
      "execution_count": 7,
      "outputs": [
        {
          "output_type": "execute_result",
          "data": {
            "text/plain": [
              "age                0\n",
              "status             0\n",
              "sex                0\n",
              "orientation        0\n",
              "body_type       5296\n",
              "diet           24395\n",
              "drinks          2985\n",
              "drugs          14080\n",
              "education       6628\n",
              "ethnicity       5680\n",
              "height             3\n",
              "income             0\n",
              "job             8198\n",
              "last_online        0\n",
              "location           0\n",
              "offspring      35561\n",
              "pets           19921\n",
              "religion       20226\n",
              "sign           11056\n",
              "smokes          5512\n",
              "speaks            50\n",
              "essay0          5488\n",
              "essay1          7572\n",
              "essay2          9638\n",
              "essay3         11476\n",
              "essay4         10537\n",
              "essay5         10850\n",
              "essay6         13771\n",
              "essay7         12451\n",
              "essay8         19225\n",
              "essay9         12603\n",
              "dtype: int64"
            ]
          },
          "metadata": {},
          "execution_count": 7
        }
      ]
    },
    {
      "cell_type": "code",
      "source": [
        "data[\"income\"]=data[\"income\"].replace(-1, 0)"
      ],
      "metadata": {
        "id": "rxW6hZ5Zj1RA"
      },
      "execution_count": 8,
      "outputs": []
    },
    {
      "cell_type": "markdown",
      "source": [
        "Convert non-numeric values to NaN, Removes rows with NaN values, and caps ages above 100 to 100 in the \"Age\" column"
      ],
      "metadata": {
        "id": "MaBPwSbvkCIC"
      }
    },
    {
      "cell_type": "code",
      "source": [
        "data['age'] = pd.to_numeric(data['age'], errors='coerce')\n",
        "\n",
        "data = data.dropna(subset=['age'])\n",
        "\n",
        "data['age'] = data['age'].apply(lambda x: x if x <= 100 else 100)\n",
        "\n",
        "data[\"age\"]"
      ],
      "metadata": {
        "id": "zB920eWWk3GO",
        "outputId": "a6241bec-3294-495b-ba2b-fd612f623704",
        "colab": {
          "base_uri": "https://localhost:8080/"
        }
      },
      "execution_count": 9,
      "outputs": [
        {
          "output_type": "execute_result",
          "data": {
            "text/plain": [
              "0        22\n",
              "1        35\n",
              "2        38\n",
              "3        23\n",
              "4        29\n",
              "         ..\n",
              "59941    59\n",
              "59942    24\n",
              "59943    42\n",
              "59944    27\n",
              "59945    39\n",
              "Name: age, Length: 59946, dtype: int64"
            ]
          },
          "metadata": {},
          "execution_count": 9
        }
      ]
    },
    {
      "cell_type": "markdown",
      "metadata": {
        "id": "7xPQ6dBXDZkS"
      },
      "source": [
        "Map various body type categories to standardized categories by replacing the original categories with the standardized ones then fill any remaining missing values in the \"body_type\" column with 'rather not say' and count the occurrences of each category in the \"body_type\" column to display the distribution of body types.\n",
        "\n",
        "\n",
        "\n"
      ]
    },
    {
      "cell_type": "code",
      "execution_count": 10,
      "metadata": {
        "colab": {
          "base_uri": "https://localhost:8080/"
        },
        "id": "JQwJPjOPGa5J",
        "outputId": "1df8f2b0-89e8-4acc-ddb7-a313e257df5a"
      },
      "outputs": [
        {
          "output_type": "execute_result",
          "data": {
            "text/plain": [
              "fit               24530\n",
              "average           15007\n",
              "rather not say    13699\n",
              "curvy              3924\n",
              "thin               1777\n",
              "full figured       1009\n",
              "Name: body_type, dtype: int64"
            ]
          },
          "metadata": {},
          "execution_count": 10
        }
      ],
      "source": [
        "category_mapping = {\n",
        "    'curvy': 'curvy',\n",
        "    'Thin': 'thin', 'skinny': 'thin',\n",
        "    'athletic': 'fit', 'fit': 'fit',\n",
        "    'rather not say': 'rather not say', 'nan': 'rather not say',\n",
        "    'Overweight': 'Overweight',\n",
        "    'used up': 'average', 'average': 'average',\n",
        "    'Jacked': 'jacked',\n",
        "    'A little extra': 'A little extra',\n",
        "    'full figured': 'full figured'\n",
        "}\n",
        "\n",
        "data['body_type'] = data['body_type'].map(category_mapping)\n",
        "\n",
        "data['body_type'] = data['body_type'].fillna('rather not say')\n",
        "\n",
        "data['body_type'].value_counts()"
      ]
    },
    {
      "cell_type": "markdown",
      "metadata": {
        "id": "_XvGzd4WG8nX"
      },
      "source": [
        "Map various diet categories to standardized categories by replacing the original categories with the standardized ones then fill any remaining missing values in the \"diet\" column with 'Prefer not to say' and count the occurrences of each category in the \"diet\" column to display the distribution of diets."
      ]
    },
    {
      "cell_type": "code",
      "execution_count": 11,
      "metadata": {
        "colab": {
          "base_uri": "https://localhost:8080/"
        },
        "id": "oTHVQC16Iw1A",
        "outputId": "e8175f72-7cc7-45f5-d569-3e2ec6e4c003"
      },
      "outputs": [
        {
          "output_type": "execute_result",
          "data": {
            "text/plain": [
              "Prefer not to say    54066\n",
              "vegetarian            4986\n",
              "vegan                  702\n",
              "kosher                 115\n",
              "halal                   77\n",
              "Name: diet, dtype: int64"
            ]
          },
          "metadata": {},
          "execution_count": 11
        }
      ],
      "source": [
        "diet_mapping = {\n",
        "    'strictly vegetarian': 'vegetarian',\n",
        "    'vegetarian': 'vegetarian',\n",
        "    'mostly vegetarian': 'vegetarian',\n",
        "    'strictly anything': 'Prefer not to say',\n",
        "    'anything': 'Prefer not to say',\n",
        "    'mostly anything': 'Prefer not to say',\n",
        "    'mostly other': 'Prefer not to say',\n",
        "    'strictly other': 'Prefer not to say',\n",
        "    'other': 'Prefer not to say',\n",
        "    'strictly vegan': 'vegan',\n",
        "    'mostly vegan': 'vegan',\n",
        "    'vegan': 'vegan',\n",
        "    'strictly halal': 'halal',\n",
        "    'halal': 'halal',\n",
        "    'mostly halal': 'halal',\n",
        "    'strictly kosher': 'kosher',\n",
        "    'kosher': 'kosher',\n",
        "    'mostly kosher': 'kosher'\n",
        "}\n",
        "\n",
        "data['diet'] = data['diet'].map(diet_mapping)\n",
        "\n",
        "data['diet'].fillna('Prefer not to say', inplace=True)\n",
        "\n",
        "data['diet'].value_counts()"
      ]
    },
    {
      "cell_type": "markdown",
      "metadata": {
        "id": "fBO7_CRwJGUG"
      },
      "source": [
        "Fill missing values with 'prefer not to say'. Then, it counts the occurrences of each category in the \"drinks\" column to display the distribution of drink preferences."
      ]
    },
    {
      "cell_type": "code",
      "execution_count": 12,
      "metadata": {
        "colab": {
          "base_uri": "https://localhost:8080/"
        },
        "id": "3bq71G0EJzCO",
        "outputId": "166ce599-f6d1-4681-b9e9-82fb5b3d33a6"
      },
      "outputs": [
        {
          "output_type": "execute_result",
          "data": {
            "text/plain": [
              "socially             41780\n",
              "rarely                5957\n",
              "often                 5164\n",
              "not at all            3267\n",
              "prefer not to say     2985\n",
              "very often             471\n",
              "desperately            322\n",
              "Name: drinks, dtype: int64"
            ]
          },
          "metadata": {},
          "execution_count": 12
        }
      ],
      "source": [
        "data['drinks'].fillna('prefer not to say', inplace=True)\n",
        "data['drinks'].value_counts()"
      ]
    },
    {
      "cell_type": "markdown",
      "metadata": {
        "id": "rDUEV6TIJgyR"
      },
      "source": [
        "Fill missing values with 'prefer not to say'. Then, it counts the occurrences of each category in the \"drugs\" column to display the distribution of drug preferences."
      ]
    },
    {
      "cell_type": "code",
      "execution_count": 13,
      "metadata": {
        "colab": {
          "base_uri": "https://localhost:8080/"
        },
        "id": "ajV53fapLLcp",
        "outputId": "7bd73a25-31c7-48ea-db85-e8c4a277b8ee"
      },
      "outputs": [
        {
          "output_type": "execute_result",
          "data": {
            "text/plain": [
              "never                37724\n",
              "prefer not to say    14080\n",
              "sometimes             7732\n",
              "often                  410\n",
              "Name: drugs, dtype: int64"
            ]
          },
          "metadata": {},
          "execution_count": 13
        }
      ],
      "source": [
        "data['drugs'].fillna('prefer not to say', inplace=True)\n",
        "data['drugs'].value_counts()"
      ]
    },
    {
      "cell_type": "markdown",
      "metadata": {
        "id": "ke7GZffGJyCO"
      },
      "source": [
        "Map various education categories to standardized categories by replacing the original categories with the standardized ones then fill any remaining missing values in the \"education\" column with 'Prefer not to say' and count the occurrences of each category in the \"education\" column to display the distribution of education."
      ]
    },
    {
      "cell_type": "code",
      "source": [
        "education_mapping = {\n",
        "    'working on high school': 'In high school',\n",
        "    'high school': 'In high school',\n",
        "    'working on college/university': 'In college',\n",
        "    'working on two-year college': 'In college',\n",
        "    'college/university': 'In college',\n",
        "    'two-year college': 'In college',\n",
        "    'working on med school': 'In college',\n",
        "    'med school': 'In college',\n",
        "    'law school': 'In college',\n",
        "    'working on law school': 'In college',\n",
        "    'working on masters program': 'In grad school',\n",
        "    'masters program': 'In grad school',\n",
        "    'graduated from high school': 'High school degree',\n",
        "    'graduated from college/university': 'College degree',\n",
        "    'graduated from two-year college': 'College degree',\n",
        "    'graduated from med school': 'College degree',\n",
        "    'graduated from law school': 'College degree',\n",
        "    'graduated from masters program': 'Graduate degree',\n",
        "    'ph.d program': 'PHD',\n",
        "    'working on ph.d program': 'PHD',\n",
        "    'graduated from ph.d program': 'PHD title',\n",
        "    'dropped out of ph.d program': 'PHD dropout',\n",
        "    'dropped out of med school': 'Dropped out of high school',\n",
        "    'dropped out of high school': 'Dropped out of high school',\n",
        "    'dropped out of college/university': 'Dropped out of college',\n",
        "    'dropped out of two-year college': 'Dropped out of college',\n",
        "    'dropped out of law school': 'Dropped out of college',\n",
        "    'dropped out of masters program': 'Dropped out of grad school',\n",
        "    'working on space camp': 'In space camp',\n",
        "    'space camp': 'In space camp',\n",
        "    'graduated from space camp': 'Graduated from space camp',\n",
        "    'dropped out of space camp': 'Dropped out of space camp'\n",
        "}\n",
        "\n",
        "data['education'] = data['education'].map(education_mapping)\n",
        "\n",
        "data['education'].fillna('Prefer not to say', inplace=True)\n",
        "\n",
        "data['education'].value_counts()"
      ],
      "metadata": {
        "id": "QO1sNFhJltkK",
        "outputId": "21135cbc-274f-4162-9460-18e6ce5f3a94",
        "colab": {
          "base_uri": "https://localhost:8080/"
        }
      },
      "execution_count": 14,
      "outputs": [
        {
          "output_type": "execute_result",
          "data": {
            "text/plain": [
              "College degree                27058\n",
              "Graduate degree                8961\n",
              "In college                     8320\n",
              "Prefer not to say              6628\n",
              "In grad school                 1819\n",
              "High school degree             1428\n",
              "PHD title                      1272\n",
              "Dropped out of college         1204\n",
              "PHD                            1009\n",
              "Graduated from space camp       657\n",
              "Dropped out of space camp       523\n",
              "In space camp                   503\n",
              "In high school                  183\n",
              "Dropped out of grad school      140\n",
              "PHD dropout                     127\n",
              "Dropped out of high school      114\n",
              "Name: education, dtype: int64"
            ]
          },
          "metadata": {},
          "execution_count": 14
        }
      ]
    },
    {
      "cell_type": "markdown",
      "source": [
        "Fill missing values with 'prefer not to say'. Then, it counts the occurrences of each category in the \"ethnicity\" column to display the distribution of ethnicity preferences."
      ],
      "metadata": {
        "id": "q6xnjFYNmUqB"
      }
    },
    {
      "cell_type": "code",
      "source": [
        "data['ethnicity'].fillna('prefer not to say', inplace=True)\n",
        "data['ethnicity'].value_counts()"
      ],
      "metadata": {
        "id": "STwKVDACmVj5",
        "outputId": "c70ed571-95a8-43a6-b7b3-006fa236e35a",
        "colab": {
          "base_uri": "https://localhost:8080/"
        }
      },
      "execution_count": 15,
      "outputs": [
        {
          "output_type": "execute_result",
          "data": {
            "text/plain": [
              "white                                                                 32831\n",
              "asian                                                                  6134\n",
              "prefer not to say                                                      5680\n",
              "hispanic / latin                                                       2823\n",
              "black                                                                  2008\n",
              "                                                                      ...  \n",
              "middle eastern, indian, white                                             1\n",
              "asian, middle eastern, black, white, other                                1\n",
              "asian, middle eastern, indian, hispanic / latin, white, other             1\n",
              "black, native american, indian, pacific islander, hispanic / latin        1\n",
              "asian, black, indian                                                      1\n",
              "Name: ethnicity, Length: 218, dtype: int64"
            ]
          },
          "metadata": {},
          "execution_count": 15
        }
      ]
    },
    {
      "cell_type": "markdown",
      "source": [
        " Handle missing values in the \"height\" column by filling them with the median height value."
      ],
      "metadata": {
        "id": "zC6ICiWMmYuR"
      }
    },
    {
      "cell_type": "code",
      "source": [
        "median_height = data['height'].median()\n",
        "\n",
        "data['height'].fillna(median_height, inplace=True)\n",
        "\n",
        "remaining_nan = data['height'].isna().sum()\n",
        "median_height"
      ],
      "metadata": {
        "colab": {
          "base_uri": "https://localhost:8080/"
        },
        "id": "IlDqzVXindot",
        "outputId": "58542220-961a-4a89-c9cd-6ea1b71daca0"
      },
      "execution_count": 16,
      "outputs": [
        {
          "output_type": "execute_result",
          "data": {
            "text/plain": [
              "68.0"
            ]
          },
          "metadata": {},
          "execution_count": 16
        }
      ]
    },
    {
      "cell_type": "markdown",
      "source": [
        "Fill missing values with 'rather not say'in the \"job\" column."
      ],
      "metadata": {
        "id": "2j_h1hkhnkt9"
      }
    },
    {
      "cell_type": "code",
      "source": [
        "data['job'] = data['job'].fillna('rather not say')"
      ],
      "metadata": {
        "id": "uV1jnfADnlMh"
      },
      "execution_count": 17,
      "outputs": []
    },
    {
      "cell_type": "code",
      "source": [
        "(data['last_online'].head())"
      ],
      "metadata": {
        "colab": {
          "base_uri": "https://localhost:8080/"
        },
        "id": "XngImVsvnn3f",
        "outputId": "940b732c-41a6-455b-999c-135cd3ab620d"
      },
      "execution_count": 18,
      "outputs": [
        {
          "output_type": "execute_result",
          "data": {
            "text/plain": [
              "0    2012-06-28-20-30\n",
              "1    2012-06-29-21-41\n",
              "2    2012-06-27-09-10\n",
              "3    2012-06-28-14-22\n",
              "4    2012-06-27-21-26\n",
              "Name: last_online, dtype: object"
            ]
          },
          "metadata": {},
          "execution_count": 18
        }
      ]
    },
    {
      "cell_type": "markdown",
      "source": [
        "Convert the values in the \"last_online\" column to datetime objects using the to_datetime"
      ],
      "metadata": {
        "id": "etm0_J_lnvDo"
      }
    },
    {
      "cell_type": "code",
      "source": [
        "data['last_online'] = pd.to_datetime(data['last_online'], format='%Y-%m-%d-%H-%M')"
      ],
      "metadata": {
        "id": "VrhRjxrUnv16"
      },
      "execution_count": 19,
      "outputs": []
    },
    {
      "cell_type": "markdown",
      "source": [
        "Map various offspring categories to standardized categories by replacing the original categories with the standardized ones then fill any remaining missing values in the \"offspring\" column with 'Prefer not to say' and count the occurrences of each category in the \"education\" column to display the distribution of offsprings."
      ],
      "metadata": {
        "id": "e_I-EyI6n0Ez"
      }
    },
    {
      "cell_type": "code",
      "source": [
        "offspring_mapping = {\n",
        "    \"doesn't have kids, but might want them\": \"Doesnt have kids but might want them\",\n",
        "    \"doesn't have kids, but wants them\": \"Doesnt have kids but wants them\",\n",
        "    \"doesn't have kids, and doesn't want any\": \"Doesnt have kids and doesnt want them\",\n",
        "    \"has a kid, but doesn't want more\": \"Has kids and doesnt want more\",\n",
        "    \"has kids, but doesn't want more\": \"Has kids and doesnt want more\",\n",
        "    'has a kid, and might want more': 'Has kids and might want more',\n",
        "    'has kids, and might want more': 'Has kids and might want more',\n",
        "    'has kids, and wants more': 'Has kids and wants more',\n",
        "    'has a kid, and wants more': 'Has kids and wants more',\n",
        "    'has a kid': 'Has kids',\n",
        "    'has kids': 'Has kids',\n",
        "}\n",
        "\n",
        "data['offspring'] = data['offspring'].map(offspring_mapping)\n",
        "\n",
        "data['offspring'].fillna('Prefer not to say', inplace=True)\n",
        "\n",
        "data['offspring'].value_counts()"
      ],
      "metadata": {
        "colab": {
          "base_uri": "https://localhost:8080/"
        },
        "id": "1Enl0ieRn0vC",
        "outputId": "f021cec9-ec83-4a72-ff28-8fd8feed3f38"
      },
      "execution_count": 20,
      "outputs": [
        {
          "output_type": "execute_result",
          "data": {
            "text/plain": [
              "Prefer not to say                        46455\n",
              "Doesnt have kids but might want them      3875\n",
              "Has kids                                  3764\n",
              "Doesnt have kids but wants them           3565\n",
              "Doesnt have kids and doesnt want them     1132\n",
              "Has kids and doesnt want more              717\n",
              "Has kids and might want more               346\n",
              "Has kids and wants more                     92\n",
              "Name: offspring, dtype: int64"
            ]
          },
          "metadata": {},
          "execution_count": 20
        }
      ]
    },
    {
      "cell_type": "markdown",
      "source": [
        "Fill missing values with 'prefer not to say' in the \"pets\" column."
      ],
      "metadata": {
        "id": "VPvU3k3joAsC"
      }
    },
    {
      "cell_type": "code",
      "source": [
        "data['pets'].fillna('prefer not to say', inplace=True)\n",
        "data['pets'].value_counts()"
      ],
      "metadata": {
        "colab": {
          "base_uri": "https://localhost:8080/"
        },
        "id": "QGzZ046moBHh",
        "outputId": "a00e90fa-434a-453c-9d42-933b7e722e2b"
      },
      "execution_count": 21,
      "outputs": [
        {
          "output_type": "execute_result",
          "data": {
            "text/plain": [
              "prefer not to say                  19921\n",
              "likes dogs and likes cats          14814\n",
              "likes dogs                          7224\n",
              "likes dogs and has cats             4313\n",
              "has dogs                            4134\n",
              "has dogs and likes cats             2333\n",
              "likes dogs and dislikes cats        2029\n",
              "has dogs and has cats               1474\n",
              "has cats                            1406\n",
              "likes cats                          1063\n",
              "has dogs and dislikes cats           552\n",
              "dislikes dogs and likes cats         240\n",
              "dislikes dogs and dislikes cats      196\n",
              "dislikes cats                        122\n",
              "dislikes dogs and has cats            81\n",
              "dislikes dogs                         44\n",
              "Name: pets, dtype: int64"
            ]
          },
          "metadata": {},
          "execution_count": 21
        }
      ]
    },
    {
      "cell_type": "markdown",
      "source": [
        "Fill missing values with 'prefer not to say' in the \"religion\" column."
      ],
      "metadata": {
        "id": "Nl1iME6XoOVO"
      }
    },
    {
      "cell_type": "code",
      "source": [
        "data['religion'].fillna('prefer not to say', inplace=True)\n",
        "data['religion'].value_counts()"
      ],
      "metadata": {
        "colab": {
          "base_uri": "https://localhost:8080/"
        },
        "id": "Fe5yBAfVoO6I",
        "outputId": "e8dc5a31-e05b-41b7-e540-9d9423cd6f68"
      },
      "execution_count": 22,
      "outputs": [
        {
          "output_type": "execute_result",
          "data": {
            "text/plain": [
              "prefer not to say                             20226\n",
              "agnosticism                                    2724\n",
              "other                                          2691\n",
              "agnosticism but not too serious about it       2636\n",
              "agnosticism and laughing about it              2496\n",
              "catholicism but not too serious about it       2318\n",
              "atheism                                        2175\n",
              "other and laughing about it                    2119\n",
              "atheism and laughing about it                  2074\n",
              "christianity                                   1957\n",
              "christianity but not too serious about it      1952\n",
              "other but not too serious about it             1554\n",
              "judaism but not too serious about it           1517\n",
              "atheism but not too serious about it           1318\n",
              "catholicism                                    1064\n",
              "christianity and somewhat serious about it      927\n",
              "atheism and somewhat serious about it           848\n",
              "other and somewhat serious about it             846\n",
              "catholicism and laughing about it               726\n",
              "judaism and laughing about it                   681\n",
              "buddhism but not too serious about it           650\n",
              "agnosticism and somewhat serious about it       642\n",
              "judaism                                         612\n",
              "christianity and very serious about it          578\n",
              "atheism and very serious about it               570\n",
              "catholicism and somewhat serious about it       548\n",
              "other and very serious about it                 533\n",
              "buddhism and laughing about it                  466\n",
              "buddhism                                        403\n",
              "christianity and laughing about it              373\n",
              "buddhism and somewhat serious about it          359\n",
              "agnosticism and very serious about it           314\n",
              "judaism and somewhat serious about it           266\n",
              "hinduism but not too serious about it           227\n",
              "hinduism                                        107\n",
              "catholicism and very serious about it           102\n",
              "buddhism and very serious about it               70\n",
              "hinduism and somewhat serious about it           58\n",
              "islam                                            48\n",
              "hinduism and laughing about it                   44\n",
              "islam but not too serious about it               40\n",
              "judaism and very serious about it                22\n",
              "islam and somewhat serious about it              22\n",
              "islam and laughing about it                      16\n",
              "hinduism and very serious about it               14\n",
              "islam and very serious about it                  13\n",
              "Name: religion, dtype: int64"
            ]
          },
          "metadata": {},
          "execution_count": 22
        }
      ]
    },
    {
      "cell_type": "markdown",
      "source": [
        "Fill missing values with 'prefer not to say' in the \"sign\" column."
      ],
      "metadata": {
        "id": "FToBz4gxoUun"
      }
    },
    {
      "cell_type": "code",
      "source": [
        "data['sign'].fillna('prefer not to say', inplace=True)\n",
        "data['sign'] = data['sign'].apply(lambda x: x.replace('&rsquo;', ''))\n",
        "data['sign'].value_counts()"
      ],
      "metadata": {
        "colab": {
          "base_uri": "https://localhost:8080/"
        },
        "id": "cChm-MzloVHf",
        "outputId": "0f0adb42-ea0c-4c79-afad-acfda36419e1"
      },
      "execution_count": 23,
      "outputs": [
        {
          "output_type": "execute_result",
          "data": {
            "text/plain": [
              "prefer not to say                         11056\n",
              "gemini and its fun to think about          1782\n",
              "scorpio and its fun to think about         1772\n",
              "leo and its fun to think about             1692\n",
              "libra and its fun to think about           1649\n",
              "taurus and its fun to think about          1640\n",
              "cancer and its fun to think about          1597\n",
              "pisces and its fun to think about          1592\n",
              "sagittarius and its fun to think about     1583\n",
              "virgo and its fun to think about           1574\n",
              "aries and its fun to think about           1573\n",
              "aquarius and its fun to think about        1503\n",
              "virgo but it doesnt matter                 1497\n",
              "leo but it doesnt matter                   1457\n",
              "cancer but it doesnt matter                1454\n",
              "gemini but it doesnt matter                1453\n",
              "taurus but it doesnt matter                1450\n",
              "aquarius but it doesnt matter              1408\n",
              "libra but it doesnt matter                 1408\n",
              "capricorn and its fun to think about       1376\n",
              "sagittarius but it doesnt matter           1375\n",
              "aries but it doesnt matter                 1373\n",
              "capricorn but it doesnt matter             1319\n",
              "pisces but it doesnt matter                1300\n",
              "scorpio but it doesnt matter               1264\n",
              "leo                                        1159\n",
              "libra                                      1098\n",
              "cancer                                     1092\n",
              "virgo                                      1029\n",
              "scorpio                                    1020\n",
              "gemini                                     1013\n",
              "taurus                                     1001\n",
              "aries                                       996\n",
              "pisces                                      992\n",
              "aquarius                                    954\n",
              "sagittarius                                 937\n",
              "capricorn                                   833\n",
              "scorpio and it matters a lot                 78\n",
              "leo and it matters a lot                     66\n",
              "cancer and it matters a lot                  63\n",
              "aquarius and it matters a lot                63\n",
              "pisces and it matters a lot                  62\n",
              "gemini and it matters a lot                  62\n",
              "libra and it matters a lot                   52\n",
              "taurus and it matters a lot                  49\n",
              "aries and it matters a lot                   47\n",
              "sagittarius and it matters a lot             47\n",
              "capricorn and it matters a lot               45\n",
              "virgo and it matters a lot                   41\n",
              "Name: sign, dtype: int64"
            ]
          },
          "metadata": {},
          "execution_count": 23
        }
      ]
    },
    {
      "cell_type": "markdown",
      "source": [
        "Fill missing values with 'prefer not to say'in the \"smokes\" column."
      ],
      "metadata": {
        "id": "ahhicRtCobIm"
      }
    },
    {
      "cell_type": "code",
      "source": [
        "data['smokes'].fillna('prefer not to say', inplace=True)\n",
        "data['smokes'].value_counts()"
      ],
      "metadata": {
        "colab": {
          "base_uri": "https://localhost:8080/"
        },
        "id": "fT3-rYVRob24",
        "outputId": "858f1573-bea2-4a0d-c101-81fb2a16e531"
      },
      "execution_count": 24,
      "outputs": [
        {
          "output_type": "execute_result",
          "data": {
            "text/plain": [
              "no                   43896\n",
              "prefer not to say     5512\n",
              "sometimes             3787\n",
              "when drinking         3040\n",
              "yes                   2231\n",
              "trying to quit        1480\n",
              "Name: smokes, dtype: int64"
            ]
          },
          "metadata": {},
          "execution_count": 24
        }
      ]
    },
    {
      "cell_type": "markdown",
      "source": [
        "Fill missing values with 'prefer not to say'in the \"speaks\" column."
      ],
      "metadata": {
        "id": "Yaf-ujneogCi"
      }
    },
    {
      "cell_type": "code",
      "source": [
        "data['speaks'].fillna('prefer not to say', inplace=True)\n",
        "data['speaks'].value_counts()"
      ],
      "metadata": {
        "colab": {
          "base_uri": "https://localhost:8080/"
        },
        "id": "BdMdmT_cogjJ",
        "outputId": "83eca040-ea65-4a82-fa9a-406300ba18c7"
      },
      "execution_count": 25,
      "outputs": [
        {
          "output_type": "execute_result",
          "data": {
            "text/plain": [
              "english                                                                21828\n",
              "english (fluently)                                                      6628\n",
              "english (fluently), spanish (poorly)                                    2059\n",
              "english (fluently), spanish (okay)                                      1917\n",
              "english (fluently), spanish (fluently)                                  1288\n",
              "                                                                       ...  \n",
              "english (fluently), urdu (poorly), japanese (poorly), french (okay)        1\n",
              "english, spanish, hindi, c++                                               1\n",
              "english (fluently), japanese (okay), thai (okay), chinese (poorly)         1\n",
              "english (fluently), french (okay), italian (okay), hebrew (okay)           1\n",
              "english (fluently), french, farsi                                          1\n",
              "Name: speaks, Length: 7648, dtype: int64"
            ]
          },
          "metadata": {},
          "execution_count": 25
        }
      ]
    },
    {
      "cell_type": "markdown",
      "source": [
        "Combine multiple essay columns into a single column named 'combined_essays', and fill any missing values with a standard placeholder text ('prefer not to say')."
      ],
      "metadata": {
        "id": "IyIN7YUYoipS"
      }
    },
    {
      "cell_type": "code",
      "source": [
        "essay_columns = [\n",
        "    'essay0',\n",
        "    'essay1',\n",
        "    'essay2',\n",
        "    'essay3',\n",
        "    'essay4',\n",
        "    'essay5',\n",
        "    'essay6',\n",
        "    'essay7',\n",
        "    'essay8',\n",
        "    'essay9'\n",
        "]\n",
        "\n",
        "for column in essay_columns:\n",
        "    data[column] = data[column].fillna('prefer not to say')\n",
        "\n",
        "data['combined_essays'] = data[essay_columns].apply(' '.join, axis=1)\n",
        "\n",
        "data[['combined_essays']].head()"
      ],
      "metadata": {
        "colab": {
          "base_uri": "https://localhost:8080/",
          "height": 206
        },
        "id": "09kdpPGBokml",
        "outputId": "77ecd1d9-7484-44cd-f8d2-3b481c790b7e"
      },
      "execution_count": 26,
      "outputs": [
        {
          "output_type": "execute_result",
          "data": {
            "text/plain": [
              "                                     combined_essays\n",
              "0  about me:  i would love to think that i was so...\n",
              "1  i am a chef: this is what that means. 1. i am ...\n",
              "2  i'm not ashamed of much, but writing public te...\n",
              "3  i work in a library and go to school. . . read...\n",
              "4  hey how's it going? currently vague on the pro..."
            ],
            "text/html": [
              "\n",
              "  <div id=\"df-9397acee-aad4-4904-8597-3bf7e27dc9f8\" class=\"colab-df-container\">\n",
              "    <div>\n",
              "<style scoped>\n",
              "    .dataframe tbody tr th:only-of-type {\n",
              "        vertical-align: middle;\n",
              "    }\n",
              "\n",
              "    .dataframe tbody tr th {\n",
              "        vertical-align: top;\n",
              "    }\n",
              "\n",
              "    .dataframe thead th {\n",
              "        text-align: right;\n",
              "    }\n",
              "</style>\n",
              "<table border=\"1\" class=\"dataframe\">\n",
              "  <thead>\n",
              "    <tr style=\"text-align: right;\">\n",
              "      <th></th>\n",
              "      <th>combined_essays</th>\n",
              "    </tr>\n",
              "  </thead>\n",
              "  <tbody>\n",
              "    <tr>\n",
              "      <th>0</th>\n",
              "      <td>about me:  i would love to think that i was so...</td>\n",
              "    </tr>\n",
              "    <tr>\n",
              "      <th>1</th>\n",
              "      <td>i am a chef: this is what that means. 1. i am ...</td>\n",
              "    </tr>\n",
              "    <tr>\n",
              "      <th>2</th>\n",
              "      <td>i'm not ashamed of much, but writing public te...</td>\n",
              "    </tr>\n",
              "    <tr>\n",
              "      <th>3</th>\n",
              "      <td>i work in a library and go to school. . . read...</td>\n",
              "    </tr>\n",
              "    <tr>\n",
              "      <th>4</th>\n",
              "      <td>hey how's it going? currently vague on the pro...</td>\n",
              "    </tr>\n",
              "  </tbody>\n",
              "</table>\n",
              "</div>\n",
              "    <div class=\"colab-df-buttons\">\n",
              "\n",
              "  <div class=\"colab-df-container\">\n",
              "    <button class=\"colab-df-convert\" onclick=\"convertToInteractive('df-9397acee-aad4-4904-8597-3bf7e27dc9f8')\"\n",
              "            title=\"Convert this dataframe to an interactive table.\"\n",
              "            style=\"display:none;\">\n",
              "\n",
              "  <svg xmlns=\"http://www.w3.org/2000/svg\" height=\"24px\" viewBox=\"0 -960 960 960\">\n",
              "    <path d=\"M120-120v-720h720v720H120Zm60-500h600v-160H180v160Zm220 220h160v-160H400v160Zm0 220h160v-160H400v160ZM180-400h160v-160H180v160Zm440 0h160v-160H620v160ZM180-180h160v-160H180v160Zm440 0h160v-160H620v160Z\"/>\n",
              "  </svg>\n",
              "    </button>\n",
              "\n",
              "  <style>\n",
              "    .colab-df-container {\n",
              "      display:flex;\n",
              "      gap: 12px;\n",
              "    }\n",
              "\n",
              "    .colab-df-convert {\n",
              "      background-color: #E8F0FE;\n",
              "      border: none;\n",
              "      border-radius: 50%;\n",
              "      cursor: pointer;\n",
              "      display: none;\n",
              "      fill: #1967D2;\n",
              "      height: 32px;\n",
              "      padding: 0 0 0 0;\n",
              "      width: 32px;\n",
              "    }\n",
              "\n",
              "    .colab-df-convert:hover {\n",
              "      background-color: #E2EBFA;\n",
              "      box-shadow: 0px 1px 2px rgba(60, 64, 67, 0.3), 0px 1px 3px 1px rgba(60, 64, 67, 0.15);\n",
              "      fill: #174EA6;\n",
              "    }\n",
              "\n",
              "    .colab-df-buttons div {\n",
              "      margin-bottom: 4px;\n",
              "    }\n",
              "\n",
              "    [theme=dark] .colab-df-convert {\n",
              "      background-color: #3B4455;\n",
              "      fill: #D2E3FC;\n",
              "    }\n",
              "\n",
              "    [theme=dark] .colab-df-convert:hover {\n",
              "      background-color: #434B5C;\n",
              "      box-shadow: 0px 1px 3px 1px rgba(0, 0, 0, 0.15);\n",
              "      filter: drop-shadow(0px 1px 2px rgba(0, 0, 0, 0.3));\n",
              "      fill: #FFFFFF;\n",
              "    }\n",
              "  </style>\n",
              "\n",
              "    <script>\n",
              "      const buttonEl =\n",
              "        document.querySelector('#df-9397acee-aad4-4904-8597-3bf7e27dc9f8 button.colab-df-convert');\n",
              "      buttonEl.style.display =\n",
              "        google.colab.kernel.accessAllowed ? 'block' : 'none';\n",
              "\n",
              "      async function convertToInteractive(key) {\n",
              "        const element = document.querySelector('#df-9397acee-aad4-4904-8597-3bf7e27dc9f8');\n",
              "        const dataTable =\n",
              "          await google.colab.kernel.invokeFunction('convertToInteractive',\n",
              "                                                    [key], {});\n",
              "        if (!dataTable) return;\n",
              "\n",
              "        const docLinkHtml = 'Like what you see? Visit the ' +\n",
              "          '<a target=\"_blank\" href=https://colab.research.google.com/notebooks/data_table.ipynb>data table notebook</a>'\n",
              "          + ' to learn more about interactive tables.';\n",
              "        element.innerHTML = '';\n",
              "        dataTable['output_type'] = 'display_data';\n",
              "        await google.colab.output.renderOutput(dataTable, element);\n",
              "        const docLink = document.createElement('div');\n",
              "        docLink.innerHTML = docLinkHtml;\n",
              "        element.appendChild(docLink);\n",
              "      }\n",
              "    </script>\n",
              "  </div>\n",
              "\n",
              "\n",
              "<div id=\"df-9f5a4967-fa8d-49ac-8b96-a43af0ebf9f6\">\n",
              "  <button class=\"colab-df-quickchart\" onclick=\"quickchart('df-9f5a4967-fa8d-49ac-8b96-a43af0ebf9f6')\"\n",
              "            title=\"Suggest charts\"\n",
              "            style=\"display:none;\">\n",
              "\n",
              "<svg xmlns=\"http://www.w3.org/2000/svg\" height=\"24px\"viewBox=\"0 0 24 24\"\n",
              "     width=\"24px\">\n",
              "    <g>\n",
              "        <path d=\"M19 3H5c-1.1 0-2 .9-2 2v14c0 1.1.9 2 2 2h14c1.1 0 2-.9 2-2V5c0-1.1-.9-2-2-2zM9 17H7v-7h2v7zm4 0h-2V7h2v10zm4 0h-2v-4h2v4z\"/>\n",
              "    </g>\n",
              "</svg>\n",
              "  </button>\n",
              "\n",
              "<style>\n",
              "  .colab-df-quickchart {\n",
              "      --bg-color: #E8F0FE;\n",
              "      --fill-color: #1967D2;\n",
              "      --hover-bg-color: #E2EBFA;\n",
              "      --hover-fill-color: #174EA6;\n",
              "      --disabled-fill-color: #AAA;\n",
              "      --disabled-bg-color: #DDD;\n",
              "  }\n",
              "\n",
              "  [theme=dark] .colab-df-quickchart {\n",
              "      --bg-color: #3B4455;\n",
              "      --fill-color: #D2E3FC;\n",
              "      --hover-bg-color: #434B5C;\n",
              "      --hover-fill-color: #FFFFFF;\n",
              "      --disabled-bg-color: #3B4455;\n",
              "      --disabled-fill-color: #666;\n",
              "  }\n",
              "\n",
              "  .colab-df-quickchart {\n",
              "    background-color: var(--bg-color);\n",
              "    border: none;\n",
              "    border-radius: 50%;\n",
              "    cursor: pointer;\n",
              "    display: none;\n",
              "    fill: var(--fill-color);\n",
              "    height: 32px;\n",
              "    padding: 0;\n",
              "    width: 32px;\n",
              "  }\n",
              "\n",
              "  .colab-df-quickchart:hover {\n",
              "    background-color: var(--hover-bg-color);\n",
              "    box-shadow: 0 1px 2px rgba(60, 64, 67, 0.3), 0 1px 3px 1px rgba(60, 64, 67, 0.15);\n",
              "    fill: var(--button-hover-fill-color);\n",
              "  }\n",
              "\n",
              "  .colab-df-quickchart-complete:disabled,\n",
              "  .colab-df-quickchart-complete:disabled:hover {\n",
              "    background-color: var(--disabled-bg-color);\n",
              "    fill: var(--disabled-fill-color);\n",
              "    box-shadow: none;\n",
              "  }\n",
              "\n",
              "  .colab-df-spinner {\n",
              "    border: 2px solid var(--fill-color);\n",
              "    border-color: transparent;\n",
              "    border-bottom-color: var(--fill-color);\n",
              "    animation:\n",
              "      spin 1s steps(1) infinite;\n",
              "  }\n",
              "\n",
              "  @keyframes spin {\n",
              "    0% {\n",
              "      border-color: transparent;\n",
              "      border-bottom-color: var(--fill-color);\n",
              "      border-left-color: var(--fill-color);\n",
              "    }\n",
              "    20% {\n",
              "      border-color: transparent;\n",
              "      border-left-color: var(--fill-color);\n",
              "      border-top-color: var(--fill-color);\n",
              "    }\n",
              "    30% {\n",
              "      border-color: transparent;\n",
              "      border-left-color: var(--fill-color);\n",
              "      border-top-color: var(--fill-color);\n",
              "      border-right-color: var(--fill-color);\n",
              "    }\n",
              "    40% {\n",
              "      border-color: transparent;\n",
              "      border-right-color: var(--fill-color);\n",
              "      border-top-color: var(--fill-color);\n",
              "    }\n",
              "    60% {\n",
              "      border-color: transparent;\n",
              "      border-right-color: var(--fill-color);\n",
              "    }\n",
              "    80% {\n",
              "      border-color: transparent;\n",
              "      border-right-color: var(--fill-color);\n",
              "      border-bottom-color: var(--fill-color);\n",
              "    }\n",
              "    90% {\n",
              "      border-color: transparent;\n",
              "      border-bottom-color: var(--fill-color);\n",
              "    }\n",
              "  }\n",
              "</style>\n",
              "\n",
              "  <script>\n",
              "    async function quickchart(key) {\n",
              "      const quickchartButtonEl =\n",
              "        document.querySelector('#' + key + ' button');\n",
              "      quickchartButtonEl.disabled = true;  // To prevent multiple clicks.\n",
              "      quickchartButtonEl.classList.add('colab-df-spinner');\n",
              "      try {\n",
              "        const charts = await google.colab.kernel.invokeFunction(\n",
              "            'suggestCharts', [key], {});\n",
              "      } catch (error) {\n",
              "        console.error('Error during call to suggestCharts:', error);\n",
              "      }\n",
              "      quickchartButtonEl.classList.remove('colab-df-spinner');\n",
              "      quickchartButtonEl.classList.add('colab-df-quickchart-complete');\n",
              "    }\n",
              "    (() => {\n",
              "      let quickchartButtonEl =\n",
              "        document.querySelector('#df-9f5a4967-fa8d-49ac-8b96-a43af0ebf9f6 button');\n",
              "      quickchartButtonEl.style.display =\n",
              "        google.colab.kernel.accessAllowed ? 'block' : 'none';\n",
              "    })();\n",
              "  </script>\n",
              "</div>\n",
              "    </div>\n",
              "  </div>\n"
            ],
            "application/vnd.google.colaboratory.intrinsic+json": {
              "type": "dataframe",
              "summary": "{\n  \"name\": \"data[['combined_essays']]\",\n  \"rows\": 5,\n  \"fields\": [\n    {\n      \"column\": \"combined_essays\",\n      \"properties\": {\n        \"dtype\": \"string\",\n        \"num_unique_values\": 5,\n        \"samples\": [\n          \"i am a chef: this is what that means. 1. i am a workaholic. 2. i love to cook regardless of whether i am at work. 3. i love to drink and eat foods that are probably really bad for me. 4. i love being around people that resemble line 1-3. i love the outdoors and i am an avid skier. if its snowing i will be in tahoe at the very least. i am a very confident and friendly. i'm not interested in acting or being a typical guy. i have no time or patience for rediculous acts of territorial pissing. overall i am a very likable easygoing individual. i am very adventurous and always looking forward to doing new things and hopefully sharing it with the right person. dedicating everyday to being an unbelievable badass. being silly. having ridiculous amonts of fun wherever. being a smart ass. ohh and i can cook. ;) prefer not to say i am die hard christopher moore fan. i don't really watch a lot of tv unless there is humor involved. i am kind of stuck on 90's alternative music. i am pretty much a fan of everything though... i do need to draw a line at most types of electronica. delicious porkness in all of its glories. my big ass doughboy's sinking into 15 new inches. my overly resilient liver. a good sharp knife. my ps3... it plays blurays too. ;) my over the top energy and my outlook on life... just give me a bag of lemons and see what happens. ;) prefer not to say prefer not to say i am very open and will share just about anything. prefer not to say\",\n          \"hey how's it going? currently vague on the profile i know, more to come soon. looking to meet new folks outside of my circle of friends. i'm pretty responsive on the reply tip, feel free to drop a line. cheers. work work work work + play creating imagery to look at: http://bagsbrown.blogspot.com/ http://stayruly.blogspot.com/ i smile a lot and my inquisitive nature music: bands, rappers, musicians at the moment: thee oh sees. forever: wu-tang books: artbooks for days audiobooks: my collection, thick (thanks audible) shows: live ones food: with stellar friends whenever movies > tv podcast: radiolab, this american life, the moth, joe rogan, the champs prefer not to say prefer not to say prefer not to say prefer not to say prefer not to say\",\n          \"i'm not ashamed of much, but writing public text on an online dating site makes me pleasantly uncomfortable. i'll try to be as earnest as possible in the noble endeavor of standing naked before the world.  i've lived in san francisco for 15 years, and both love it and find myself frustrated with its deficits. lots of great friends and acquaintances (which increases my apprehension to put anything on this site), but i'm feeling like meeting some new people that aren't just friends of friends. it's okay if you are a friend of a friend too. chances are, if you make it through the complex filtering process of multiple choice questions, lifestyle statistics, photo scanning, and these indulgent blurbs of text without moving quickly on to another search result, you are probably already a cultural peer and at most 2 people removed. at first, i thought i should say as little as possible here to avoid you, but that seems silly.  as far as culture goes, i'm definitely more on the weird side of the spectrum, but i don't exactly wear it on my sleeve. once you get me talking, it will probably become increasingly apparent that while i'd like to think of myself as just like everybody else (and by some definition i certainly am), most people don't see me that way. that's fine with me. most of the people i find myself gravitating towards are pretty weird themselves. you probably are too. i make nerdy software for musicians, artists, and experimenters to indulge in their own weirdness, but i like to spend time away from the computer when working on my artwork (which is typically more concerned with group dynamics and communication, than with visual form, objects, or technology). i also record and deejay dance, noise, pop, and experimental music (most of which electronic or at least studio based). besides these relatively ego driven activities, i've been enjoying things like meditation and tai chi to try and gently flirt with ego death. improvising in different contexts. alternating between being present and decidedly outside of a moment, or trying to hold both at once. rambling intellectual conversations that hold said conversations in contempt while seeking to find something that transcends them. being critical while remaining generous. listening to and using body language--often performed in caricature or large gestures, if not outright interpretive dance. dry, dark, and raunchy humor. my large jaw and large glasses are the physical things people comment on the most. when sufficiently stimulated, i have an unmistakable cackle of a laugh. after that, it goes in more directions than i care to describe right now. maybe i'll come back to this. okay this is where the cultural matrix gets so specific, it's like being in the crosshairs.  for what it's worth, i find myself reading more non-fiction than fiction. it's usually some kind of philosophy, art, or science text by silly authors such as ranciere, de certeau, bataille, baudrillard, butler, stein, arendt, nietzche, zizek, etc. i'll often throw in some weird new age or pop-psychology book in the mix as well. as for fiction, i enjoy what little i've read of eco, perec, wallace, bolao, dick, vonnegut, atwood, delilo, etc. when i was young, i was a rabid asimov reader.  directors i find myself drawn to are makavejev, kuchar, jodorowsky, herzog, hara, klein, waters, verhoeven, ackerman, hitchcock, lang, gorin, goddard, miike, ohbayashi, tarkovsky, sokurov, warhol, etc. but i also like a good amount of \\\"trashy\\\" stuff. too much to name.  i definitely enjoy the character development that happens in long form episodic television over the course of 10-100 episodes, which a 1-2hr movie usually can't compete with. some of my recent tv favorites are: breaking bad, the wire, dexter, true blood, the prisoner, lost, fringe.  a smattered sampling of the vast field of music i like and deejay: art ensemble, sun ra, evan parker, lil wayne, dj funk, mr. fingers, maurizio, rob hood, dan bell, james blake, nonesuch recordings, omar souleyman, ethiopiques, fela kuti, john cage, meredith monk, robert ashley, terry riley, yoko ono, merzbow, tom tom club, jit, juke, bounce, hyphy, snap, crunk, b'more, kuduro, pop, noise, jazz, techno, house, acid, new/no wave, (post)punk, etc.  a few of the famous art/dance/theater folk that might locate my sensibility: andy warhol, bruce nauman, yayoi kusama, louise bourgeois, tino sehgal, george kuchar, michel duchamp, marina abramovic, gelatin, carolee schneeman, gustav metzger, mike kelly, mike smith, andrea fraser, gordon matta-clark, jerzy grotowski, samuel beckett, antonin artaud, tadeusz kantor, anna halperin, merce cunningham, etc. i'm clearly leaving out a younger generation of contemporary artists, many of whom are friends.  local food regulars: sushi zone, chow, ppq, pagolac, lers ros, burma superstar, minako, shalimar, delfina pizza, rosamunde, arinells, suppenkuche, cha-ya, blue plate, golden era, etc. movement conversation creation contemplation touch humor prefer not to say viewing. listening. dancing. talking. drinking. performing. when i was five years old, i was known as \\\"the boogerman\\\". you are bright, open, intense, silly, ironic, critical, caring, generous, looking for an exploration, rather than finding \\\"a match\\\" of some predetermined qualities.  i'm currently in a fabulous and open relationship, so you should be comfortable with that.\"\n        ],\n        \"semantic_type\": \"\",\n        \"description\": \"\"\n      }\n    }\n  ]\n}"
            }
          },
          "metadata": {},
          "execution_count": 26
        }
      ]
    },
    {
      "cell_type": "markdown",
      "source": [
        "Rename the specified columns inplace"
      ],
      "metadata": {
        "id": "nboO6pZbop94"
      }
    },
    {
      "cell_type": "code",
      "source": [
        "column_rename_mapping = {\n",
        "    'essay0': 'self_summary',\n",
        "    'essay1': 'current_activities',\n",
        "    'essay2': 'skills_talents',\n",
        "    'essay3': 'first_noticeable',\n",
        "    'essay4': 'favorites',\n",
        "    'essay5': 'essentials',\n",
        "    'essay6': 'thoughts',\n",
        "    'essay7': 'friday_night',\n",
        "    'essay8': 'private_admission',\n",
        "    'essay9': 'message_reasons'\n",
        "}\n",
        "\n",
        "data.rename(columns=column_rename_mapping, inplace=True)\n",
        "\n",
        "data.head()"
      ],
      "metadata": {
        "colab": {
          "base_uri": "https://localhost:8080/",
          "height": 620
        },
        "id": "14f95LC5oqZd",
        "outputId": "2501fb5a-ea49-4d1a-e9d5-8fe32fb6b6ad"
      },
      "execution_count": 27,
      "outputs": [
        {
          "output_type": "execute_result",
          "data": {
            "text/plain": [
              "   age     status sex orientation       body_type               diet  \\\n",
              "0   22     single   m    straight  rather not say  Prefer not to say   \n",
              "1   35     single   m    straight         average  Prefer not to say   \n",
              "2   38  available   m    straight  rather not say  Prefer not to say   \n",
              "3   23     single   m    straight  rather not say         vegetarian   \n",
              "4   29     single   m    straight             fit  Prefer not to say   \n",
              "\n",
              "     drinks              drugs        education            ethnicity  ...  \\\n",
              "0  socially              never       In college         asian, white  ...   \n",
              "1     often          sometimes    In space camp                white  ...   \n",
              "2  socially  prefer not to say  Graduate degree    prefer not to say  ...   \n",
              "3  socially  prefer not to say       In college                white  ...   \n",
              "4  socially              never   College degree  asian, black, other  ...   \n",
              "\n",
              "                                  current_activities  \\\n",
              "0  currently working as an international agent fo...   \n",
              "1  dedicating everyday to being an unbelievable b...   \n",
              "2  i make nerdy software for musicians, artists, ...   \n",
              "3          reading things written by old dead people   \n",
              "4                         work work work work + play   \n",
              "\n",
              "                                      skills_talents  \\\n",
              "0  making people laugh. ranting about a good salt...   \n",
              "1  being silly. having ridiculous amonts of fun w...   \n",
              "2  improvising in different contexts. alternating...   \n",
              "3  playing synthesizers and organizing books acco...   \n",
              "4  creating imagery to look at: http://bagsbrown....   \n",
              "\n",
              "                                    first_noticeable  \\\n",
              "0  the way i look. i am a six foot half asian, ha...   \n",
              "1                                  prefer not to say   \n",
              "2  my large jaw and large glasses are the physica...   \n",
              "3                  socially awkward but i do my best   \n",
              "4            i smile a lot and my inquisitive nature   \n",
              "\n",
              "                                           favorites  \\\n",
              "0  books: absurdistan, the republic, of mice and ...   \n",
              "1  i am die hard christopher moore fan. i don't r...   \n",
              "2  okay this is where the cultural matrix gets so...   \n",
              "3  bataille, celine, beckett. . . lynch, jarmusch...   \n",
              "4  music: bands, rappers, musicians at the moment...   \n",
              "\n",
              "                                          essentials  \\\n",
              "0                  food. water. cell phone. shelter.   \n",
              "1  delicious porkness in all of its glories. my b...   \n",
              "2  movement conversation creation contemplation t...   \n",
              "3                                  prefer not to say   \n",
              "4                                  prefer not to say   \n",
              "\n",
              "                      thoughts  \\\n",
              "0  duality and humorous things   \n",
              "1            prefer not to say   \n",
              "2            prefer not to say   \n",
              "3   cats and german philosophy   \n",
              "4            prefer not to say   \n",
              "\n",
              "                                        friday_night  \\\n",
              "0  trying to find someone to hang out with. i am ...   \n",
              "1                                  prefer not to say   \n",
              "2  viewing. listening. dancing. talking. drinking...   \n",
              "3                                  prefer not to say   \n",
              "4                                  prefer not to say   \n",
              "\n",
              "                                   private_admission  \\\n",
              "0  i am new to california and looking for someone...   \n",
              "1  i am very open and will share just about anyth...   \n",
              "2  when i was five years old, i was known as \"the...   \n",
              "3                                  prefer not to say   \n",
              "4                                  prefer not to say   \n",
              "\n",
              "                                     message_reasons  \\\n",
              "0  you want to be swept off your feet! you are ti...   \n",
              "1                                  prefer not to say   \n",
              "2  you are bright, open, intense, silly, ironic, ...   \n",
              "3                              you feel so inclined.   \n",
              "4                                  prefer not to say   \n",
              "\n",
              "                                     combined_essays  \n",
              "0  about me:  i would love to think that i was so...  \n",
              "1  i am a chef: this is what that means. 1. i am ...  \n",
              "2  i'm not ashamed of much, but writing public te...  \n",
              "3  i work in a library and go to school. . . read...  \n",
              "4  hey how's it going? currently vague on the pro...  \n",
              "\n",
              "[5 rows x 32 columns]"
            ],
            "text/html": [
              "\n",
              "  <div id=\"df-22a23d21-9ee8-4dbd-857e-8db7ffb9414f\" class=\"colab-df-container\">\n",
              "    <div>\n",
              "<style scoped>\n",
              "    .dataframe tbody tr th:only-of-type {\n",
              "        vertical-align: middle;\n",
              "    }\n",
              "\n",
              "    .dataframe tbody tr th {\n",
              "        vertical-align: top;\n",
              "    }\n",
              "\n",
              "    .dataframe thead th {\n",
              "        text-align: right;\n",
              "    }\n",
              "</style>\n",
              "<table border=\"1\" class=\"dataframe\">\n",
              "  <thead>\n",
              "    <tr style=\"text-align: right;\">\n",
              "      <th></th>\n",
              "      <th>age</th>\n",
              "      <th>status</th>\n",
              "      <th>sex</th>\n",
              "      <th>orientation</th>\n",
              "      <th>body_type</th>\n",
              "      <th>diet</th>\n",
              "      <th>drinks</th>\n",
              "      <th>drugs</th>\n",
              "      <th>education</th>\n",
              "      <th>ethnicity</th>\n",
              "      <th>...</th>\n",
              "      <th>current_activities</th>\n",
              "      <th>skills_talents</th>\n",
              "      <th>first_noticeable</th>\n",
              "      <th>favorites</th>\n",
              "      <th>essentials</th>\n",
              "      <th>thoughts</th>\n",
              "      <th>friday_night</th>\n",
              "      <th>private_admission</th>\n",
              "      <th>message_reasons</th>\n",
              "      <th>combined_essays</th>\n",
              "    </tr>\n",
              "  </thead>\n",
              "  <tbody>\n",
              "    <tr>\n",
              "      <th>0</th>\n",
              "      <td>22</td>\n",
              "      <td>single</td>\n",
              "      <td>m</td>\n",
              "      <td>straight</td>\n",
              "      <td>rather not say</td>\n",
              "      <td>Prefer not to say</td>\n",
              "      <td>socially</td>\n",
              "      <td>never</td>\n",
              "      <td>In college</td>\n",
              "      <td>asian, white</td>\n",
              "      <td>...</td>\n",
              "      <td>currently working as an international agent fo...</td>\n",
              "      <td>making people laugh. ranting about a good salt...</td>\n",
              "      <td>the way i look. i am a six foot half asian, ha...</td>\n",
              "      <td>books: absurdistan, the republic, of mice and ...</td>\n",
              "      <td>food. water. cell phone. shelter.</td>\n",
              "      <td>duality and humorous things</td>\n",
              "      <td>trying to find someone to hang out with. i am ...</td>\n",
              "      <td>i am new to california and looking for someone...</td>\n",
              "      <td>you want to be swept off your feet! you are ti...</td>\n",
              "      <td>about me:  i would love to think that i was so...</td>\n",
              "    </tr>\n",
              "    <tr>\n",
              "      <th>1</th>\n",
              "      <td>35</td>\n",
              "      <td>single</td>\n",
              "      <td>m</td>\n",
              "      <td>straight</td>\n",
              "      <td>average</td>\n",
              "      <td>Prefer not to say</td>\n",
              "      <td>often</td>\n",
              "      <td>sometimes</td>\n",
              "      <td>In space camp</td>\n",
              "      <td>white</td>\n",
              "      <td>...</td>\n",
              "      <td>dedicating everyday to being an unbelievable b...</td>\n",
              "      <td>being silly. having ridiculous amonts of fun w...</td>\n",
              "      <td>prefer not to say</td>\n",
              "      <td>i am die hard christopher moore fan. i don't r...</td>\n",
              "      <td>delicious porkness in all of its glories. my b...</td>\n",
              "      <td>prefer not to say</td>\n",
              "      <td>prefer not to say</td>\n",
              "      <td>i am very open and will share just about anyth...</td>\n",
              "      <td>prefer not to say</td>\n",
              "      <td>i am a chef: this is what that means. 1. i am ...</td>\n",
              "    </tr>\n",
              "    <tr>\n",
              "      <th>2</th>\n",
              "      <td>38</td>\n",
              "      <td>available</td>\n",
              "      <td>m</td>\n",
              "      <td>straight</td>\n",
              "      <td>rather not say</td>\n",
              "      <td>Prefer not to say</td>\n",
              "      <td>socially</td>\n",
              "      <td>prefer not to say</td>\n",
              "      <td>Graduate degree</td>\n",
              "      <td>prefer not to say</td>\n",
              "      <td>...</td>\n",
              "      <td>i make nerdy software for musicians, artists, ...</td>\n",
              "      <td>improvising in different contexts. alternating...</td>\n",
              "      <td>my large jaw and large glasses are the physica...</td>\n",
              "      <td>okay this is where the cultural matrix gets so...</td>\n",
              "      <td>movement conversation creation contemplation t...</td>\n",
              "      <td>prefer not to say</td>\n",
              "      <td>viewing. listening. dancing. talking. drinking...</td>\n",
              "      <td>when i was five years old, i was known as \"the...</td>\n",
              "      <td>you are bright, open, intense, silly, ironic, ...</td>\n",
              "      <td>i'm not ashamed of much, but writing public te...</td>\n",
              "    </tr>\n",
              "    <tr>\n",
              "      <th>3</th>\n",
              "      <td>23</td>\n",
              "      <td>single</td>\n",
              "      <td>m</td>\n",
              "      <td>straight</td>\n",
              "      <td>rather not say</td>\n",
              "      <td>vegetarian</td>\n",
              "      <td>socially</td>\n",
              "      <td>prefer not to say</td>\n",
              "      <td>In college</td>\n",
              "      <td>white</td>\n",
              "      <td>...</td>\n",
              "      <td>reading things written by old dead people</td>\n",
              "      <td>playing synthesizers and organizing books acco...</td>\n",
              "      <td>socially awkward but i do my best</td>\n",
              "      <td>bataille, celine, beckett. . . lynch, jarmusch...</td>\n",
              "      <td>prefer not to say</td>\n",
              "      <td>cats and german philosophy</td>\n",
              "      <td>prefer not to say</td>\n",
              "      <td>prefer not to say</td>\n",
              "      <td>you feel so inclined.</td>\n",
              "      <td>i work in a library and go to school. . . read...</td>\n",
              "    </tr>\n",
              "    <tr>\n",
              "      <th>4</th>\n",
              "      <td>29</td>\n",
              "      <td>single</td>\n",
              "      <td>m</td>\n",
              "      <td>straight</td>\n",
              "      <td>fit</td>\n",
              "      <td>Prefer not to say</td>\n",
              "      <td>socially</td>\n",
              "      <td>never</td>\n",
              "      <td>College degree</td>\n",
              "      <td>asian, black, other</td>\n",
              "      <td>...</td>\n",
              "      <td>work work work work + play</td>\n",
              "      <td>creating imagery to look at: http://bagsbrown....</td>\n",
              "      <td>i smile a lot and my inquisitive nature</td>\n",
              "      <td>music: bands, rappers, musicians at the moment...</td>\n",
              "      <td>prefer not to say</td>\n",
              "      <td>prefer not to say</td>\n",
              "      <td>prefer not to say</td>\n",
              "      <td>prefer not to say</td>\n",
              "      <td>prefer not to say</td>\n",
              "      <td>hey how's it going? currently vague on the pro...</td>\n",
              "    </tr>\n",
              "  </tbody>\n",
              "</table>\n",
              "<p>5 rows × 32 columns</p>\n",
              "</div>\n",
              "    <div class=\"colab-df-buttons\">\n",
              "\n",
              "  <div class=\"colab-df-container\">\n",
              "    <button class=\"colab-df-convert\" onclick=\"convertToInteractive('df-22a23d21-9ee8-4dbd-857e-8db7ffb9414f')\"\n",
              "            title=\"Convert this dataframe to an interactive table.\"\n",
              "            style=\"display:none;\">\n",
              "\n",
              "  <svg xmlns=\"http://www.w3.org/2000/svg\" height=\"24px\" viewBox=\"0 -960 960 960\">\n",
              "    <path d=\"M120-120v-720h720v720H120Zm60-500h600v-160H180v160Zm220 220h160v-160H400v160Zm0 220h160v-160H400v160ZM180-400h160v-160H180v160Zm440 0h160v-160H620v160ZM180-180h160v-160H180v160Zm440 0h160v-160H620v160Z\"/>\n",
              "  </svg>\n",
              "    </button>\n",
              "\n",
              "  <style>\n",
              "    .colab-df-container {\n",
              "      display:flex;\n",
              "      gap: 12px;\n",
              "    }\n",
              "\n",
              "    .colab-df-convert {\n",
              "      background-color: #E8F0FE;\n",
              "      border: none;\n",
              "      border-radius: 50%;\n",
              "      cursor: pointer;\n",
              "      display: none;\n",
              "      fill: #1967D2;\n",
              "      height: 32px;\n",
              "      padding: 0 0 0 0;\n",
              "      width: 32px;\n",
              "    }\n",
              "\n",
              "    .colab-df-convert:hover {\n",
              "      background-color: #E2EBFA;\n",
              "      box-shadow: 0px 1px 2px rgba(60, 64, 67, 0.3), 0px 1px 3px 1px rgba(60, 64, 67, 0.15);\n",
              "      fill: #174EA6;\n",
              "    }\n",
              "\n",
              "    .colab-df-buttons div {\n",
              "      margin-bottom: 4px;\n",
              "    }\n",
              "\n",
              "    [theme=dark] .colab-df-convert {\n",
              "      background-color: #3B4455;\n",
              "      fill: #D2E3FC;\n",
              "    }\n",
              "\n",
              "    [theme=dark] .colab-df-convert:hover {\n",
              "      background-color: #434B5C;\n",
              "      box-shadow: 0px 1px 3px 1px rgba(0, 0, 0, 0.15);\n",
              "      filter: drop-shadow(0px 1px 2px rgba(0, 0, 0, 0.3));\n",
              "      fill: #FFFFFF;\n",
              "    }\n",
              "  </style>\n",
              "\n",
              "    <script>\n",
              "      const buttonEl =\n",
              "        document.querySelector('#df-22a23d21-9ee8-4dbd-857e-8db7ffb9414f button.colab-df-convert');\n",
              "      buttonEl.style.display =\n",
              "        google.colab.kernel.accessAllowed ? 'block' : 'none';\n",
              "\n",
              "      async function convertToInteractive(key) {\n",
              "        const element = document.querySelector('#df-22a23d21-9ee8-4dbd-857e-8db7ffb9414f');\n",
              "        const dataTable =\n",
              "          await google.colab.kernel.invokeFunction('convertToInteractive',\n",
              "                                                    [key], {});\n",
              "        if (!dataTable) return;\n",
              "\n",
              "        const docLinkHtml = 'Like what you see? Visit the ' +\n",
              "          '<a target=\"_blank\" href=https://colab.research.google.com/notebooks/data_table.ipynb>data table notebook</a>'\n",
              "          + ' to learn more about interactive tables.';\n",
              "        element.innerHTML = '';\n",
              "        dataTable['output_type'] = 'display_data';\n",
              "        await google.colab.output.renderOutput(dataTable, element);\n",
              "        const docLink = document.createElement('div');\n",
              "        docLink.innerHTML = docLinkHtml;\n",
              "        element.appendChild(docLink);\n",
              "      }\n",
              "    </script>\n",
              "  </div>\n",
              "\n",
              "\n",
              "<div id=\"df-8c1abd44-5f00-4e92-a8de-f4140edec80c\">\n",
              "  <button class=\"colab-df-quickchart\" onclick=\"quickchart('df-8c1abd44-5f00-4e92-a8de-f4140edec80c')\"\n",
              "            title=\"Suggest charts\"\n",
              "            style=\"display:none;\">\n",
              "\n",
              "<svg xmlns=\"http://www.w3.org/2000/svg\" height=\"24px\"viewBox=\"0 0 24 24\"\n",
              "     width=\"24px\">\n",
              "    <g>\n",
              "        <path d=\"M19 3H5c-1.1 0-2 .9-2 2v14c0 1.1.9 2 2 2h14c1.1 0 2-.9 2-2V5c0-1.1-.9-2-2-2zM9 17H7v-7h2v7zm4 0h-2V7h2v10zm4 0h-2v-4h2v4z\"/>\n",
              "    </g>\n",
              "</svg>\n",
              "  </button>\n",
              "\n",
              "<style>\n",
              "  .colab-df-quickchart {\n",
              "      --bg-color: #E8F0FE;\n",
              "      --fill-color: #1967D2;\n",
              "      --hover-bg-color: #E2EBFA;\n",
              "      --hover-fill-color: #174EA6;\n",
              "      --disabled-fill-color: #AAA;\n",
              "      --disabled-bg-color: #DDD;\n",
              "  }\n",
              "\n",
              "  [theme=dark] .colab-df-quickchart {\n",
              "      --bg-color: #3B4455;\n",
              "      --fill-color: #D2E3FC;\n",
              "      --hover-bg-color: #434B5C;\n",
              "      --hover-fill-color: #FFFFFF;\n",
              "      --disabled-bg-color: #3B4455;\n",
              "      --disabled-fill-color: #666;\n",
              "  }\n",
              "\n",
              "  .colab-df-quickchart {\n",
              "    background-color: var(--bg-color);\n",
              "    border: none;\n",
              "    border-radius: 50%;\n",
              "    cursor: pointer;\n",
              "    display: none;\n",
              "    fill: var(--fill-color);\n",
              "    height: 32px;\n",
              "    padding: 0;\n",
              "    width: 32px;\n",
              "  }\n",
              "\n",
              "  .colab-df-quickchart:hover {\n",
              "    background-color: var(--hover-bg-color);\n",
              "    box-shadow: 0 1px 2px rgba(60, 64, 67, 0.3), 0 1px 3px 1px rgba(60, 64, 67, 0.15);\n",
              "    fill: var(--button-hover-fill-color);\n",
              "  }\n",
              "\n",
              "  .colab-df-quickchart-complete:disabled,\n",
              "  .colab-df-quickchart-complete:disabled:hover {\n",
              "    background-color: var(--disabled-bg-color);\n",
              "    fill: var(--disabled-fill-color);\n",
              "    box-shadow: none;\n",
              "  }\n",
              "\n",
              "  .colab-df-spinner {\n",
              "    border: 2px solid var(--fill-color);\n",
              "    border-color: transparent;\n",
              "    border-bottom-color: var(--fill-color);\n",
              "    animation:\n",
              "      spin 1s steps(1) infinite;\n",
              "  }\n",
              "\n",
              "  @keyframes spin {\n",
              "    0% {\n",
              "      border-color: transparent;\n",
              "      border-bottom-color: var(--fill-color);\n",
              "      border-left-color: var(--fill-color);\n",
              "    }\n",
              "    20% {\n",
              "      border-color: transparent;\n",
              "      border-left-color: var(--fill-color);\n",
              "      border-top-color: var(--fill-color);\n",
              "    }\n",
              "    30% {\n",
              "      border-color: transparent;\n",
              "      border-left-color: var(--fill-color);\n",
              "      border-top-color: var(--fill-color);\n",
              "      border-right-color: var(--fill-color);\n",
              "    }\n",
              "    40% {\n",
              "      border-color: transparent;\n",
              "      border-right-color: var(--fill-color);\n",
              "      border-top-color: var(--fill-color);\n",
              "    }\n",
              "    60% {\n",
              "      border-color: transparent;\n",
              "      border-right-color: var(--fill-color);\n",
              "    }\n",
              "    80% {\n",
              "      border-color: transparent;\n",
              "      border-right-color: var(--fill-color);\n",
              "      border-bottom-color: var(--fill-color);\n",
              "    }\n",
              "    90% {\n",
              "      border-color: transparent;\n",
              "      border-bottom-color: var(--fill-color);\n",
              "    }\n",
              "  }\n",
              "</style>\n",
              "\n",
              "  <script>\n",
              "    async function quickchart(key) {\n",
              "      const quickchartButtonEl =\n",
              "        document.querySelector('#' + key + ' button');\n",
              "      quickchartButtonEl.disabled = true;  // To prevent multiple clicks.\n",
              "      quickchartButtonEl.classList.add('colab-df-spinner');\n",
              "      try {\n",
              "        const charts = await google.colab.kernel.invokeFunction(\n",
              "            'suggestCharts', [key], {});\n",
              "      } catch (error) {\n",
              "        console.error('Error during call to suggestCharts:', error);\n",
              "      }\n",
              "      quickchartButtonEl.classList.remove('colab-df-spinner');\n",
              "      quickchartButtonEl.classList.add('colab-df-quickchart-complete');\n",
              "    }\n",
              "    (() => {\n",
              "      let quickchartButtonEl =\n",
              "        document.querySelector('#df-8c1abd44-5f00-4e92-a8de-f4140edec80c button');\n",
              "      quickchartButtonEl.style.display =\n",
              "        google.colab.kernel.accessAllowed ? 'block' : 'none';\n",
              "    })();\n",
              "  </script>\n",
              "</div>\n",
              "    </div>\n",
              "  </div>\n"
            ],
            "application/vnd.google.colaboratory.intrinsic+json": {
              "type": "dataframe",
              "variable_name": "data"
            }
          },
          "metadata": {},
          "execution_count": 27
        }
      ]
    }
  ]
}